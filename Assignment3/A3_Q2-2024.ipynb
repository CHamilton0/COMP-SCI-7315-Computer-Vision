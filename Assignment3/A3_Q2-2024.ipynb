{
 "cells": [
  {
   "cell_type": "markdown",
   "metadata": {},
   "source": [
    "## Question 2: Animal classification (15 marks)\n",
    "\n",
    "For this question, we will use the Animal (https://cloudstor.aarnet.edu.au/plus/s/cZYtNAeVhWD6uBX) dataset. This dataset contains images of 151 different animals. \n",
    "\n",
    "The dataset contains a total of 6270 images corresponding to the name of animal types.\n",
    "\n",
    "All images are RGB images of 224 pixels wide by 224 pixels high in .jpg format. The images are separated in 151 folders according to their respective class.\n",
    "\n",
    "The task is to categorize each animal into one of 151 categories. \n",
    "\n",
    "We provide baseline code that includes the following features:\n",
    "\n",
    "*   Loading and Analysing the dataset using torchvision.\n",
    "*   Defining a simple convolutional neural network. \n",
    "*   How to use existing loss function for the model learning. \n",
    "*   Train the network on the training data. \n",
    "*   Test the trained network on the testing data. \n",
    "\n",
    "The following changes could be considered:\n",
    "\n",
    "1. \"Transfer\" Learning (ie use a model pre-trained another dataset)\n",
    "2. Change of advanced training parameters: Learning Rate, Optimizer, Batch-size, Number of Max Epochs, and Drop-out. \n",
    "3. Use of a new loss function.\n",
    "4. Data augmentation\n",
    "5. Architectural Changes: Batch Normalization, Residual layers, etc.\n",
    "6. Others - please ask us on the Discussion Forums if you're not sure about an idea!\n",
    "\n",
    "Your code should be modified from the provided baseline. A pdf report of a maximum of two pages is required to explain the changes you made from the baseline, why you chose those changes, and the improvements they achieved.\n",
    "\n",
    "### Marking Rules:\n",
    "\n",
    "We will mark this question based on the final test accuracy on testing images and your report.\n",
    "\n",
    "Final mark (out of 50) = acc_mark + efficiency mark + report mark\n",
    "\n",
    "**Acc_mark 10:**\n",
    "\n",
    "We will rank all the submission results based on their test accuracy. Zero improvement over the baseline yields 0 marks. Maximum improvement over the baseline will yield 10 marks. There will be a sliding scale applied in between.\n",
    "\n",
    "**Efficiency mark 10:**\n",
    "\n",
    "Efficiency considers not only the accuracy, but the computational cost of running the model (flops: https://en.wikipedia.org/wiki/FLOPS). Efficiency for our purposes is defined to be the ratio of accuracy (in %) to Gflops. Please report the computational cost for your final model and include the efficiency calculation in your report. Maximum improvement over the baseline will yield 10 marks. Zero improvement over the baseline yields zero marks, with a sliding scale in between.\n",
    "\n",
    "**Report mark 30:**\n",
    "\n",
    "Your report should comprise:\n",
    "1. An introduction showing your understanding of the task and of the baseline model: [10 marks]\n",
    "\n",
    "2. A description of how you have modified aspects of the system to improve performance. [10 marks]\n",
    "\n",
    "A recommended way to present a summary of this is via an \"ablation study\" table, eg:\n",
    "\n",
    "|Method1|Method2|Method3|Accuracy|\n",
    "|---|---|---|---|\n",
    "|N|N|N|60%|\n",
    "|Y|N|N|65%|\n",
    "|Y|Y|N|77%|\n",
    "|Y|Y|Y|82%|\n",
    "\n",
    "3. Explanation of the methods for reducing the computational cost and/or improve the trade-off between accuracy and cost: [5 marks]\n",
    "\n",
    "4. Limitations/Conclusions: [5 marks] \n",
    "\n"
   ]
  },
  {
   "cell_type": "code",
   "execution_count": 286,
   "metadata": {
    "id": "6osXOBOQIeFi"
   },
   "outputs": [],
   "source": [
    "##################################################################################################################################\n",
    "### Subject: Computer Vision \n",
    "### Year: 2024\n",
    "### Student Name: Hamilton, Christopher\n",
    "### Student ID: a1766121\n",
    "### Comptetion Name: Animal Classification Competition\n",
    "### Final Results:\n",
    "### ACC:         FLOPs:\n",
    "##################################################################################################################################"
   ]
  },
  {
   "cell_type": "code",
   "execution_count": 287,
   "metadata": {
    "id": "YsXCfZg3KA5B"
   },
   "outputs": [],
   "source": [
    "# Importing libraries. \n",
    "\n",
    "import os\n",
    "import random\n",
    "import numpy as np\n",
    "import torch\n",
    "import torch.nn as nn\n",
    "import torch.nn.functional as F\n",
    "from tqdm.notebook import tqdm\n",
    "\n",
    "# To avoid non-essential warnings \n",
    "import warnings\n",
    "warnings.filterwarnings('ignore')\n",
    "\n",
    "from torchvision import datasets, transforms, models \n",
    "from torchvision.datasets import ImageFolder\n",
    "from torchvision.transforms import ToTensor\n",
    "from torchvision.utils import make_grid\n",
    "from torch.utils.data import random_split\n",
    "from torch.utils.data.dataloader import DataLoader\n",
    "import matplotlib.pyplot as plt\n",
    "%matplotlib inline"
   ]
  },
  {
   "cell_type": "code",
   "execution_count": 288,
   "metadata": {
    "id": "0pn8oVaFKEfa"
   },
   "outputs": [],
   "source": [
    "# Mounting G-Drive to get your dataset. \n",
    "# To access Google Colab GPU; Go To: Edit >>> Netebook Settings >>> Hardware Accelarator: Select GPU. \n",
    "# Reference: https://towardsdatascience.com/google-colab-import-and-export-datasets-eccf801e2971 \n",
    "# from google.colab import drive\n",
    "# drive.mount('/content/drive')\n",
    "\n",
    "# Dataset path. You should change the dataset path to the location that you place the data.\n",
    "data_dir = 'data/animal'\n",
    "classes = os.listdir(data_dir)"
   ]
  },
  {
   "cell_type": "code",
   "execution_count": 289,
   "metadata": {
    "id": "W6PfFlDfK41q"
   },
   "outputs": [],
   "source": [
    "# Performing Image Transformations. \n",
    "##Hints: Data Augmentation can be applied here. Have a look on RandomFlip, RandomRotation...\n",
    "train_transform = transforms.Compose([\n",
    "            transforms.Resize(112),\n",
    "            transforms.RandomHorizontalFlip(),\n",
    "            transforms.CenterCrop(112),\n",
    "            transforms.ToTensor(),\n",
    "            transforms.Normalize((0.488), (0.2172)),\n",
    "        ])\n",
    "\n"
   ]
  },
  {
   "cell_type": "code",
   "execution_count": 290,
   "metadata": {
    "id": "1lgLwj4VsH5y"
   },
   "outputs": [
    {
     "name": "stdout",
     "output_type": "stream",
     "text": [
      "Size of training dataset : 6270\n"
     ]
    }
   ],
   "source": [
    "# Checking the dataset training size.\n",
    "dataset = ImageFolder(data_dir, transform=train_transform)\n",
    "print('Size of training dataset :', len(dataset))"
   ]
  },
  {
   "cell_type": "code",
   "execution_count": 291,
   "metadata": {
    "id": "3KMeP9V4OoDa"
   },
   "outputs": [
    {
     "name": "stdout",
     "output_type": "stream",
     "text": [
      "torch.Size([3, 112, 112])\n"
     ]
    }
   ],
   "source": [
    "# Viewing one of images shape.\n",
    "img, label = dataset[100]\n",
    "print(img.shape)"
   ]
  },
  {
   "cell_type": "code",
   "execution_count": 292,
   "metadata": {
    "id": "ZhgDWEtmOtgl"
   },
   "outputs": [],
   "source": [
    "# Preview one of the images..\n",
    "def show_image(img, label):\n",
    "    print('Label: ', dataset.classes[label], \"(\"+str(label)+\")\")\n",
    "    plt.imshow(img.permute(1,2,0))"
   ]
  },
  {
   "cell_type": "code",
   "execution_count": 293,
   "metadata": {
    "id": "La4sXlGpOyob"
   },
   "outputs": [
    {
     "name": "stderr",
     "output_type": "stream",
     "text": [
      "Clipping input data to the valid range for imshow with RGB data ([0..1] for floats or [0..255] for integers). Got range [-2.1745567..2.3031092].\n"
     ]
    },
    {
     "name": "stdout",
     "output_type": "stream",
     "text": [
      "Label:  ailurus-fulgens (5)\n"
     ]
    },
    {
     "data": {
      "image/png": "[encoded data removed]",
      "text/plain": [
       "<Figure size 640x480 with 1 Axes>"
      ]
     },
     "metadata": {},
     "output_type": "display_data"
    }
   ],
   "source": [
    "show_image(*dataset[200])"
   ]
  },
  {
   "cell_type": "code",
   "execution_count": 294,
   "metadata": {
    "id": "x3aLCchAO1uQ"
   },
   "outputs": [],
   "source": [
    "# Setting seed so that value won't change everytime. \n",
    "# Splitting the dataset to training, validation, and testing category.\n",
    "torch.manual_seed(10)\n",
    "val_size = len(dataset)//20\n",
    "test_size = len(dataset)//10\n",
    "train_size = len(dataset) - val_size - test_size"
   ]
  },
  {
   "cell_type": "code",
   "execution_count": 295,
   "metadata": {
    "id": "-oeDLvlsO1lx"
   },
   "outputs": [
    {
     "data": {
      "text/plain": [
       "(5330, 313, 627)"
      ]
     },
     "execution_count": 295,
     "metadata": {},
     "output_type": "execute_result"
    }
   ],
   "source": [
    "# Random Splitting. \n",
    "train_ds, val_ds, test_ds = random_split(dataset, [train_size, val_size, test_size])\n",
    "len(train_ds), len(val_ds),len(test_ds)  "
   ]
  },
  {
   "cell_type": "code",
   "execution_count": 296,
   "metadata": {
    "id": "RntURgaIRaTp"
   },
   "outputs": [],
   "source": [
    "batch_size = 16\n",
    "train_loader = DataLoader(train_ds, batch_size, shuffle=True, num_workers=2, pin_memory=True)\n",
    "val_loader = DataLoader(val_ds, batch_size, num_workers=2, pin_memory=True)\n",
    "test_loader = DataLoader(test_ds, batch_size, num_workers=2, pin_memory=True)"
   ]
  },
  {
   "cell_type": "code",
   "execution_count": 297,
   "metadata": {
    "id": "uZkgiO-XRdxQ"
   },
   "outputs": [
    {
     "name": "stderr",
     "output_type": "stream",
     "text": [
      "Clipping input data to the valid range for imshow with RGB data ([0..1] for floats or [0..255] for integers). Got range [-2.2467773..2.3572743].\n"
     ]
    },
    {
     "data": {
      "image/png": "[encoded data removed]",
      "text/plain": [
       "<Figure size 1800x1000 with 1 Axes>"
      ]
     },
     "metadata": {},
     "output_type": "display_data"
    }
   ],
   "source": [
    "# Multiple images preview. \n",
    "for images, labels in train_loader:\n",
    "    fig, ax = plt.subplots(figsize=(18,10))\n",
    "    ax.set_xticks([])\n",
    "    ax.set_yticks([])\n",
    "    ax.imshow(make_grid(images, nrow=16).permute(1, 2, 0))\n",
    "    break"
   ]
  },
  {
   "cell_type": "code",
   "execution_count": 298,
   "metadata": {
    "id": "dpH6HJSuRhAe"
   },
   "outputs": [],
   "source": [
    " # Baseline model class for training and validation purpose. Evaluation metric function - Accuracy.\n",
    "def accuracy(output, target, topk=(1,)):\n",
    "    \"\"\"\n",
    "    Computes the accuracy over the k top predictions for the specified values of k\n",
    "    In top-3 accuracy you give yourself credit for having the right answer\n",
    "    if the right answer appears in your top five guesses.\n",
    "    \"\"\"\n",
    "    with torch.no_grad():\n",
    "        maxk = 3\n",
    "        batch_size = target.size(0)\n",
    "\n",
    "        # st()\n",
    "        _, pred = output.topk(maxk, 1, True, True)\n",
    "        pred = pred.t()\n",
    "        # st()\n",
    "        # correct = pred.eq(target.view(1, -1).expand_as(pred))\n",
    "        # correct = (pred == target.view(1, -1).expand_as(pred))\n",
    "        correct = (pred == target.unsqueeze(dim=0)).expand_as(pred)\n",
    "\n",
    "\n",
    "\n",
    "        correct_3 = correct[:3].reshape(-1).float().sum(0, keepdim=True)\n",
    "\n",
    "        return correct_3.mul_(1.0 / batch_size)\n",
    "#def accuracy(outputs, labels):\n",
    " #   _, preds = torch.max(outputs, dim=1)\n",
    "  #  return torch.tensor(torch.sum(preds == labels).item() / len(preds))\n",
    "\n",
    "class ImageClassificationBase(nn.Module):\n",
    "    def training_step(self, batch):\n",
    "        images, labels = batch \n",
    "        out = self(images)                  # Generate predictions\n",
    "        loss = F.cross_entropy(out, labels) # Calculate loss, Hints: the loss function can be changed to improve the accuracy\n",
    "        return loss\n",
    "    \n",
    "    def validation_step(self, batch):\n",
    "        images, labels = batch \n",
    "        out = self(images)                    # Generate predictions\n",
    "        loss = F.cross_entropy(out, labels)   # Calculate loss\n",
    "        acc = accuracy(out, labels, (5))           # Calculate accuracy\n",
    "        return {'val_loss': loss.detach(), 'val_acc': acc}\n",
    "        \n",
    "    def validation_epoch_end(self, outputs):\n",
    "        batch_losses = [x['val_loss'] for x in outputs]\n",
    "        epoch_loss = torch.stack(batch_losses).mean()   # Combine losses\n",
    "        batch_accs = [x['val_acc'] for x in outputs]\n",
    "        epoch_acc = torch.stack(batch_accs).mean()      # Combine accuracies\n",
    "        return {'val_loss': epoch_loss.item(), 'val_acc': epoch_acc.item()}\n",
    "    \n",
    "    def epoch_end(self, epoch, result):\n",
    "        print(\"Epoch [{}], train_loss: {:.4f}, val_loss: {:.4f}, val_acc: {:.4f}\".format(\n",
    "            epoch, result['train_loss'], result['val_loss'], result['val_acc']))"
   ]
  },
  {
   "cell_type": "code",
   "execution_count": 299,
   "metadata": {
    "id": "H-2gGT4iRthd"
   },
   "outputs": [],
   "source": [
    " # To check wether Google Colab GPU has been assigned/not. \n",
    "\n",
    "def get_default_device():\n",
    "    \"\"\"Pick GPU if available, else CPU\"\"\"\n",
    "    if torch.cuda.is_available():\n",
    "        return torch.device('cuda')\n",
    "    else:\n",
    "        return None\n",
    "    \n",
    "def to_device(data, device):\n",
    "    \"\"\"Move tensor(s) to chosen device\"\"\"\n",
    "    if isinstance(data, (list,tuple)):\n",
    "        return [to_device(x, device) for x in data]\n",
    "    return data.to(device, non_blocking=True)\n",
    "\n",
    "class DeviceDataLoader():\n",
    "    \"\"\"Wrap a dataloader to move data to a device\"\"\"\n",
    "    def __init__(self, dl, device):\n",
    "        self.dl = dl\n",
    "        self.device = device\n",
    "        \n",
    "    def __iter__(self):\n",
    "        \"\"\"Yield a batch of data after moving it to device\"\"\"\n",
    "        for b in self.dl: \n",
    "            yield to_device(b, self.device)\n",
    "\n",
    "    def __len__(self):\n",
    "        \"\"\"Number of batches\"\"\"\n",
    "        return len(self.dl)"
   ]
  },
  {
   "cell_type": "code",
   "execution_count": 300,
   "metadata": {
    "id": "UnJ0fHw3Ry6D"
   },
   "outputs": [
    {
     "name": "stdout",
     "output_type": "stream",
     "text": [
      "cuda\n"
     ]
    }
   ],
   "source": [
    "device = get_default_device()\n",
    "print(device)\n",
    "train_loader = DeviceDataLoader(train_loader, device)\n",
    "val_loader = DeviceDataLoader(val_loader, device)\n",
    "test_loader = DeviceDataLoader(test_loader, device)"
   ]
  },
  {
   "cell_type": "code",
   "execution_count": 301,
   "metadata": {
    "id": "vg1yB_o7R1rz"
   },
   "outputs": [],
   "source": [
    "input_size = 3*112*112\n",
    "output_size = 151"
   ]
  },
  {
   "cell_type": "code",
   "execution_count": 302,
   "metadata": {
    "id": "o8hKhWrZSiER"
   },
   "outputs": [],
   "source": [
    "# Convolutional Network - Baseline\n",
    "class ConvolutionalNetwork(ImageClassificationBase):\n",
    "    def __init__(self, classes):\n",
    "        super().__init__()\n",
    "        self.num_classes=classes\n",
    "        self.conv1=nn.Conv2d(3,64,5,1)\n",
    "        self.conv2=nn.Conv2d(64,128,3,1)\n",
    "        self.conv3=nn.Conv2d(128,128,3,1)\n",
    "        self.conv4=nn.Conv2d(128,128,3,1)\n",
    "        self.fc1=nn.Linear(128*5*5,self.num_classes)\n",
    "    def forward(self,X):\n",
    "        X=F.relu(self.conv1(X))\n",
    "        X=F.max_pool2d(X,2,2)\n",
    "        X=F.relu(self.conv2(X))\n",
    "        X=F.max_pool2d(X,2,2)\n",
    "        X=F.relu(self.conv3(X))\n",
    "        X=F.max_pool2d(X,2,2)\n",
    "        X=F.relu(self.conv4(X))\n",
    "        X=F.max_pool2d(X,2,2)\n",
    "        X=X.view(-1,128*5*5)\n",
    "        X=self.fc1(X)\n",
    "        \n",
    "        return F.log_softmax(X, dim=1)"
   ]
  },
  {
   "cell_type": "code",
   "execution_count": 303,
   "metadata": {},
   "outputs": [],
   "source": [
    "# Convolutional Network - Including drop out layers\n",
    "class DOConvolutionalNetwork(ImageClassificationBase):\n",
    "    def __init__(self, classes):\n",
    "        super().__init__()\n",
    "        self.num_classes=classes\n",
    "        \n",
    "        self.conv1=nn.Conv2d(3,64,5,1)\n",
    "        self.conv2=nn.Conv2d(64,128,3,1)\n",
    "        self.conv3=nn.Conv2d(128,128,3,1)\n",
    "        self.conv4=nn.Conv2d(128,128,3,1)\n",
    "        self.drop = nn.Dropout2d(p=0.2)\n",
    "        self.fc1=nn.Linear(128*5*5,self.num_classes)\n",
    "\n",
    "    def forward(self,X):\n",
    "        X=F.relu(self.conv1(X))\n",
    "        X=F.max_pool2d(X,2,2)\n",
    "        X=F.relu(self.conv2(X))\n",
    "        X=F.max_pool2d(X,2,2)\n",
    "        X=F.relu(self.conv3(X))\n",
    "        X=F.max_pool2d(X,2,2)\n",
    "        X=F.relu(self.conv4(X))\n",
    "        X=F.max_pool2d(X,2,2)\n",
    "        X = F.dropout(self.drop(X), training=self.training)\n",
    "        X=X.view(-1,128*5*5)\n",
    "        X=self.fc1(X)\n",
    "        \n",
    "        return F.log_softmax(X, dim=1)\n",
    "    \n",
    "    def training_step(self, batch):\n",
    "        images, labels = batch \n",
    "        out = self(images)                  # Generate predictions\n",
    "        loss = F.nll_loss(out, labels)      # Calculate loss\n",
    "        return loss\n",
    "\n",
    "    def validation_step(self, batch):\n",
    "        images, labels = batch \n",
    "        out = self(images)                    # Generate predictions\n",
    "        loss = F.nll_loss(out, labels)   # Calculate loss\n",
    "        acc = accuracy(out, labels, (3))           # Calculate accuracy\n",
    "        return {'val_loss': loss.detach(), 'val_acc': acc}"
   ]
  },
  {
   "cell_type": "code",
   "execution_count": 304,
   "metadata": {},
   "outputs": [],
   "source": [
    "# Convolutional Network - Including drop out layers and removing one convolution layer\n",
    "class SmallerDOConvolutionalNetwork(ImageClassificationBase):\n",
    "    def __init__(self, classes):\n",
    "        super().__init__()\n",
    "        self.num_classes=classes\n",
    "        \n",
    "        self.conv1=nn.Conv2d(3,64,5,1)\n",
    "        self.conv2=nn.Conv2d(64,128,3,1)\n",
    "        self.conv3=nn.Conv2d(128,128,3,1)\n",
    "        self.drop = nn.Dropout2d(p=0.2)\n",
    "        self.fc1=nn.Linear(128*5*5,self.num_classes)\n",
    "\n",
    "    def forward(self,X):\n",
    "        X=F.relu(self.conv1(X))\n",
    "        X=F.max_pool2d(X,2,2)\n",
    "        X=F.relu(self.conv2(X))\n",
    "        X=F.max_pool2d(X,2,2)\n",
    "        X=F.max_pool2d(X,2,2)\n",
    "        X=F.relu(self.conv3(X))\n",
    "        X=F.max_pool2d(X,2,2)\n",
    "        X = F.dropout(self.drop(X), training=self.training)\n",
    "        X=X.view(-1,128*5*5)\n",
    "        X=self.fc1(X)\n",
    "        \n",
    "        return F.log_softmax(X, dim=1)\n",
    "    \n",
    "    def training_step(self, batch):\n",
    "        images, labels = batch \n",
    "        out = self(images)                  # Generate predictions\n",
    "        loss = F.nll_loss(out, labels)      # Calculate loss\n",
    "        return loss\n",
    "\n",
    "    def validation_step(self, batch):\n",
    "        images, labels = batch \n",
    "        out = self(images)                    # Generate predictions\n",
    "        loss = F.nll_loss(out, labels)   # Calculate loss\n",
    "        acc = accuracy(out, labels, (3))           # Calculate accuracy\n",
    "        return {'val_loss': loss.detach(), 'val_acc': acc}"
   ]
  },
  {
   "cell_type": "code",
   "execution_count": 305,
   "metadata": {
    "id": "ds1_BIy6Sse5"
   },
   "outputs": [
    {
     "data": {
      "text/plain": [
       "ConvolutionalNetwork(\n",
       "  (conv1): Conv2d(3, 64, kernel_size=(5, 5), stride=(1, 1))\n",
       "  (conv2): Conv2d(64, 128, kernel_size=(3, 3), stride=(1, 1))\n",
       "  (conv3): Conv2d(128, 128, kernel_size=(3, 3), stride=(1, 1))\n",
       "  (conv4): Conv2d(128, 128, kernel_size=(3, 3), stride=(1, 1))\n",
       "  (fc1): Linear(in_features=3200, out_features=151, bias=True)\n",
       ")"
      ]
     },
     "execution_count": 305,
     "metadata": {},
     "output_type": "execute_result"
    }
   ],
   "source": [
    "# Model print\n",
    "num_classes = 151\n",
    "base_model = ConvolutionalNetwork(num_classes)\n",
    "base_model.to(device)\n",
    "\n",
    "model = ConvolutionalNetwork(num_classes)\n",
    "model.to(device)"
   ]
  },
  {
   "cell_type": "code",
   "execution_count": 306,
   "metadata": {},
   "outputs": [
    {
     "data": {
      "text/plain": [
       "DOConvolutionalNetwork(\n",
       "  (conv1): Conv2d(3, 64, kernel_size=(5, 5), stride=(1, 1))\n",
       "  (conv2): Conv2d(64, 128, kernel_size=(3, 3), stride=(1, 1))\n",
       "  (conv3): Conv2d(128, 128, kernel_size=(3, 3), stride=(1, 1))\n",
       "  (conv4): Conv2d(128, 128, kernel_size=(3, 3), stride=(1, 1))\n",
       "  (drop): Dropout2d(p=0.2, inplace=False)\n",
       "  (fc1): Linear(in_features=3200, out_features=151, bias=True)\n",
       ")"
      ]
     },
     "execution_count": 306,
     "metadata": {},
     "output_type": "execute_result"
    }
   ],
   "source": [
    "do_model = DOConvolutionalNetwork(num_classes)\n",
    "do_model.to(device)"
   ]
  },
  {
   "cell_type": "code",
   "execution_count": 307,
   "metadata": {},
   "outputs": [
    {
     "data": {
      "text/plain": [
       "SmallerDOConvolutionalNetwork(\n",
       "  (conv1): Conv2d(3, 64, kernel_size=(5, 5), stride=(1, 1))\n",
       "  (conv2): Conv2d(64, 128, kernel_size=(3, 3), stride=(1, 1))\n",
       "  (conv3): Conv2d(128, 128, kernel_size=(3, 3), stride=(1, 1))\n",
       "  (drop): Dropout2d(p=0.2, inplace=False)\n",
       "  (fc1): Linear(in_features=3200, out_features=151, bias=True)\n",
       ")"
      ]
     },
     "execution_count": 307,
     "metadata": {},
     "output_type": "execute_result"
    }
   ],
   "source": [
    "smaller_do_model = SmallerDOConvolutionalNetwork(num_classes)\n",
    "smaller_do_model.to(device)"
   ]
  },
  {
   "cell_type": "code",
   "execution_count": 308,
   "metadata": {
    "id": "dwePT8W8Sxob"
   },
   "outputs": [
    {
     "name": "stdout",
     "output_type": "stream",
     "text": [
      "images.shape: torch.Size([16, 3, 112, 112])\n",
      "out.shape: torch.Size([16, 151])\n",
      "out[0]: tensor([-5.0230, -4.9953, -4.9554, -5.0577, -5.0879, -4.9579, -5.0188, -4.9894,\n",
      "        -5.0599, -5.0163, -5.0539, -4.9913, -4.9857, -5.0409, -5.0310, -5.0157,\n",
      "        -5.0245, -5.0169, -5.0365, -5.0875, -5.0270, -5.0374, -5.0112, -4.9949,\n",
      "        -4.9988, -4.9719, -4.9550, -5.0776, -5.0188, -4.9772, -5.0024, -5.0198,\n",
      "        -5.0638, -5.0260, -5.0068, -4.9895, -5.0360, -5.0093, -4.9352, -5.0104,\n",
      "        -5.0441, -5.0583, -5.0315, -5.0521, -4.9614, -5.0777, -4.9949, -5.0993,\n",
      "        -5.0077, -5.0149, -5.0059, -5.0456, -4.9595, -5.0615, -5.0447, -5.0477,\n",
      "        -5.0479, -5.0515, -5.0259, -4.9723, -5.0579, -4.9977, -5.0147, -5.0159,\n",
      "        -5.0510, -4.9851, -5.0430, -5.0367, -5.0584, -5.0355, -5.0562, -5.0008,\n",
      "        -5.0364, -5.0926, -5.0348, -5.0814, -5.0266, -4.9945, -5.0116, -4.9721,\n",
      "        -5.0838, -4.9965, -5.0464, -4.9896, -5.0034, -4.9707, -5.0356, -5.0457,\n",
      "        -5.0201, -5.0624, -5.0166, -5.0077, -4.9982, -4.9898, -5.0005, -5.0049,\n",
      "        -5.0133, -4.9981, -5.0875, -5.0521, -5.0416, -4.9875, -4.9918, -4.9795,\n",
      "        -4.9953, -4.9941, -5.0496, -4.9952, -4.9475, -5.0382, -5.0724, -5.0452,\n",
      "        -5.0809, -5.0133, -5.0103, -5.0372, -4.9514, -4.9338, -4.9830, -5.0384,\n",
      "        -5.0050, -5.0667, -5.0189, -4.9990, -5.0019, -4.9941, -4.9857, -5.0004,\n",
      "        -4.9441, -5.0051, -4.9554, -4.9784, -5.0311, -5.0086, -5.0350, -5.0331,\n",
      "        -5.0215, -5.0902, -5.0069, -5.0139, -4.9984, -5.0382, -5.0160, -4.9698,\n",
      "        -4.9807, -4.9903, -4.9908, -5.0896, -4.9861, -5.0555, -4.9645],\n",
      "       device='cuda:0', grad_fn=<SelectBackward0>)\n",
      "images.shape: torch.Size([16, 3, 112, 112])\n",
      "out.shape: torch.Size([16, 151])\n",
      "out[0]: tensor([-4.9902, -5.0081, -5.0600, -5.0530, -5.0296, -4.9609, -4.9967, -5.0261,\n",
      "        -5.0063, -5.0800, -5.0384, -5.0035, -5.0735, -5.0201, -5.0061, -4.9693,\n",
      "        -5.0172, -4.9353, -5.0316, -5.0683, -4.9832, -5.0173, -4.9584, -4.9613,\n",
      "        -5.0234, -5.1189, -5.0464, -5.0057, -5.0162, -4.9257, -4.9495, -5.0450,\n",
      "        -5.0043, -5.0264, -5.0149, -5.1097, -5.0439, -5.0193, -5.0353, -5.0409,\n",
      "        -5.0508, -5.0441, -5.0081, -4.9794, -5.0003, -5.0187, -5.1316, -5.0494,\n",
      "        -5.0324, -5.0245, -5.0338, -5.0314, -4.9725, -4.9989, -5.0436, -5.0130,\n",
      "        -5.0046, -5.0744, -4.9959, -5.0081, -5.0688, -4.9437, -5.0349, -4.9831,\n",
      "        -4.9887, -5.1062, -5.0362, -4.9701, -4.9577, -5.0467, -5.0080, -4.9374,\n",
      "        -5.0556, -5.0479, -5.0388, -5.0516, -5.0012, -5.0287, -4.9453, -4.9909,\n",
      "        -5.0261, -4.9571, -5.0503, -5.0512, -4.9410, -4.9535, -5.0920, -4.9930,\n",
      "        -5.0528, -5.0432, -4.9743, -5.0628, -4.9948, -5.0548, -5.0857, -5.0600,\n",
      "        -4.9722, -4.9664, -4.9808, -4.9959, -5.0155, -5.0338, -5.0825, -5.0124,\n",
      "        -5.0315, -4.9854, -4.9828, -5.0224, -5.0216, -5.0314, -5.0752, -5.0465,\n",
      "        -5.0171, -4.9847, -4.9854, -5.0832, -4.9835, -4.9480, -4.9874, -5.0470,\n",
      "        -4.9943, -5.0214, -5.0210, -5.0449, -4.9939, -5.0275, -5.0275, -5.0455,\n",
      "        -5.0731, -4.9981, -5.0926, -5.0459, -5.0205, -4.9826, -5.0558, -5.0384,\n",
      "        -5.0025, -5.0306, -5.0569, -5.0245, -5.0504, -5.0174, -4.9724, -4.9903,\n",
      "        -4.9991, -4.9287, -5.0236, -4.9795, -4.9843, -5.0675, -4.9594],\n",
      "       device='cuda:0', grad_fn=<SelectBackward0>)\n",
      "images.shape: torch.Size([16, 3, 112, 112])\n",
      "out.shape: torch.Size([16, 151])\n",
      "out[0]: tensor([-5.1607, -5.0587, -5.0836, -5.0919, -5.0264, -5.1140, -4.9258, -5.0981,\n",
      "        -5.0320, -4.9561, -4.9348, -4.9151, -5.1087, -5.0263, -5.0944, -5.0623,\n",
      "        -4.9975, -4.9832, -4.9561, -4.9462, -5.0844, -5.0230, -4.8776, -5.0206,\n",
      "        -5.0525, -5.2297, -4.8701, -5.0183, -4.8798, -5.0598, -5.0335, -4.9774,\n",
      "        -4.8095, -5.1403, -4.9945, -5.0210, -5.1242, -5.0299, -5.0697, -5.1245,\n",
      "        -5.0545, -4.9492, -4.9583, -5.0503, -5.0448, -5.0097, -5.0260, -4.9391,\n",
      "        -5.0115, -5.0575, -5.0568, -4.9893, -5.0315, -4.9576, -4.8958, -4.9636,\n",
      "        -5.0183, -5.0524, -4.9802, -5.0332, -5.1174, -5.0664, -4.9505, -4.9341,\n",
      "        -5.0903, -4.9573, -5.2270, -5.0280, -5.0678, -5.0608, -5.0002, -4.9936,\n",
      "        -4.9913, -4.9673, -5.0312, -5.1029, -4.9332, -4.9581, -4.9466, -5.0456,\n",
      "        -5.0173, -5.0429, -5.0543, -4.9141, -5.0370, -5.1372, -5.0900, -4.9994,\n",
      "        -4.9074, -4.9997, -5.0877, -4.9177, -5.0246, -5.0713, -5.0183, -5.1100,\n",
      "        -4.9007, -4.9632, -5.0251, -4.8202, -4.9423, -5.0390, -5.0769, -4.9304,\n",
      "        -5.2012, -4.9551, -4.9051, -4.9683, -5.0835, -5.0496, -5.0464, -5.0310,\n",
      "        -5.0125, -5.0651, -5.0243, -5.0164, -5.0550, -5.1438, -5.0607, -4.9869,\n",
      "        -4.9686, -5.1282, -4.9994, -4.9154, -5.0288, -4.8743, -5.0695, -4.9287,\n",
      "        -5.0409, -5.0249, -5.0642, -5.1578, -4.9837, -4.9013, -5.0942, -5.1189,\n",
      "        -5.1839, -5.0537, -4.9076, -4.8411, -4.8051, -5.3101, -5.0561, -4.9631,\n",
      "        -4.8471, -5.1329, -5.1931, -4.9445, -5.0662, -5.1504, -5.1154],\n",
      "       device='cuda:0', grad_fn=<SelectBackward0>)\n",
      "images.shape: torch.Size([16, 3, 112, 112])\n",
      "out.shape: torch.Size([16, 151])\n",
      "out[0]: tensor([-5.0852, -4.9648, -5.1995, -5.2560, -5.0407, -5.2802, -4.8265, -4.8388,\n",
      "        -4.9967, -5.1484, -5.1654, -5.0979, -4.8123, -5.0436, -5.1637, -4.8440,\n",
      "        -4.7746, -5.0610, -5.2121, -4.6985, -4.9423, -5.1221, -5.0025, -4.9018,\n",
      "        -5.2633, -5.0981, -4.9795, -5.1394, -5.0343, -4.9789, -5.1657, -4.7976,\n",
      "        -4.8428, -4.6316, -4.8905, -5.0221, -4.8042, -5.1657, -5.0406, -5.0719,\n",
      "        -5.3497, -5.0020, -5.0742, -4.9149, -5.1639, -4.9434, -5.0562, -4.8945,\n",
      "        -5.0835, -4.9176, -4.5704, -4.8886, -5.2589, -5.1508, -5.2251, -5.2332,\n",
      "        -5.0083, -5.2899, -5.0045, -4.7461, -5.2313, -4.7975, -4.8277, -5.1003,\n",
      "        -5.0156, -4.9453, -5.1930, -4.8382, -5.1290, -4.9679, -4.9207, -5.0480,\n",
      "        -5.1628, -4.9940, -5.1021, -5.2223, -5.0514, -4.9608, -5.1815, -4.9528,\n",
      "        -5.2064, -4.8329, -5.0557, -5.0839, -5.1217, -4.9232, -5.3418, -5.0347,\n",
      "        -4.8277, -5.0385, -5.0155, -5.1693, -5.0269, -4.8522, -4.9634, -4.9905,\n",
      "        -5.1372, -4.9899, -5.5450, -5.1915, -5.0705, -4.9674, -5.2769, -5.1791,\n",
      "        -5.3866, -5.1854, -4.8707, -4.9977, -4.7099, -5.2200, -4.9159, -5.0970,\n",
      "        -4.8775, -5.1767, -5.1747, -4.9962, -4.7719, -5.0108, -5.0305, -5.0176,\n",
      "        -4.9523, -4.6892, -4.7284, -5.0978, -4.8331, -5.2294, -4.9283, -5.0867,\n",
      "        -4.9595, -5.1687, -5.1785, -4.9567, -5.2002, -4.9276, -4.9570, -4.8785,\n",
      "        -5.0459, -5.1782, -5.0305, -4.8938, -5.0696, -5.0399, -5.0956, -5.0303,\n",
      "        -4.8860, -5.1053, -5.1094, -5.1468, -4.7071, -5.2171, -5.1440],\n",
      "       device='cuda:0', grad_fn=<SelectBackward0>)\n"
     ]
    }
   ],
   "source": [
    "# We can check the input and the output shape\n",
    "models = [base_model, model, do_model, smaller_do_model]\n",
    "for train_model in models:\n",
    "    for images, labels in train_loader:\n",
    "        out = train_model(images)\n",
    "        print('images.shape:', images.shape)    \n",
    "        print('out.shape:', out.shape)\n",
    "        print('out[0]:', out[0])\n",
    "        break"
   ]
  },
  {
   "cell_type": "code",
   "execution_count": 309,
   "metadata": {
    "id": "Slbs7i2bTNYX"
   },
   "outputs": [],
   "source": [
    "train_dl = DeviceDataLoader(train_loader, device)\n",
    "val_dl = DeviceDataLoader(val_loader, device)"
   ]
  },
  {
   "cell_type": "code",
   "execution_count": 310,
   "metadata": {
    "id": "Yp66PsS8T_tk"
   },
   "outputs": [],
   "source": [
    "# Functions for evaluation and training.\n",
    "\n",
    "@torch.no_grad()\n",
    "def evaluate(model, val_loader):\n",
    "    model.eval()\n",
    "    outputs = [model.validation_step(batch) for batch in val_loader]\n",
    "    return model.validation_epoch_end(outputs)\n",
    "\n",
    "def fit(epochs, lr, model, train_loader, val_loader, opt_func=torch.optim.SGD):\n",
    "    history = []\n",
    "    optimizer = opt_func(model.parameters(), lr)\n",
    "    for epoch in range(epochs):\n",
    "        # Training Phase \n",
    "        model.train()\n",
    "        train_losses = []\n",
    "        for batch in tqdm(train_loader):\n",
    "            loss = model.training_step(batch)\n",
    "            train_losses.append(loss)\n",
    "            loss.backward()\n",
    "            optimizer.step()\n",
    "            optimizer.zero_grad()\n",
    "        # Validation phase\n",
    "        result = evaluate(model, val_loader)\n",
    "        result['train_loss'] = torch.stack(train_losses).mean().item()\n",
    "        model.epoch_end(epoch, result)\n",
    "        history.append(result)\n",
    "    return history"
   ]
  },
  {
   "cell_type": "code",
   "execution_count": 311,
   "metadata": {
    "id": "G1A9PYs1Ugt_"
   },
   "outputs": [],
   "source": [
    "base_model = to_device(base_model, device)\n",
    "model = to_device(model, device)\n",
    "do_model = to_device(do_model, device)\n",
    "smaller_do_model = to_device(smaller_do_model, device)"
   ]
  },
  {
   "cell_type": "code",
   "execution_count": 312,
   "metadata": {
    "id": "Y473tduFUi7I"
   },
   "outputs": [
    {
     "name": "stdout",
     "output_type": "stream",
     "text": [
      "Starting evaluation for baseline (10 epochs): [{'val_loss': 5.019043922424316, 'val_acc': 0.015625}]\n",
      "Starting evaluation for baseline (50 epochs): [{'val_loss': 5.019298553466797, 'val_acc': 0.012500000186264515}]\n",
      "Starting evaluation for dropout model: [{'val_loss': 5.01693058013916, 'val_acc': 0.02500000037252903}]\n",
      "Starting evaluation for smaller dropout model: [{'val_loss': 5.0107622146606445, 'val_acc': 0.015625}]\n"
     ]
    }
   ],
   "source": [
    "base_history=[evaluate(model, val_loader)]\n",
    "history=[evaluate(model, val_loader)]\n",
    "do_history=[evaluate(do_model, val_loader)]\n",
    "smaller_do_history=[evaluate(smaller_do_model, val_loader)]\n",
    "\n",
    "print(f\"Starting evaluation for baseline (10 epochs): {base_history}\")\n",
    "print(f\"Starting evaluation for baseline (50 epochs): {history}\")\n",
    "print(f\"Starting evaluation for dropout model: {do_history}\")\n",
    "print(f\"Starting evaluation for smaller dropout model: {smaller_do_history}\")"
   ]
  },
  {
   "cell_type": "code",
   "execution_count": 313,
   "metadata": {
    "id": "wS27vmjWUk0M"
   },
   "outputs": [
    {
     "name": "stdout",
     "output_type": "stream",
     "text": [
      "627\n"
     ]
    }
   ],
   "source": [
    "# Hints: The following parameters can be changed to improve the accuracy\n",
    "print(test_size)\n",
    "num_epochs = 10\n",
    "opt_func = torch.optim.Adam\n",
    "lr = 0.001"
   ]
  },
  {
   "cell_type": "code",
   "execution_count": 314,
   "metadata": {},
   "outputs": [
    {
     "name": "stdout",
     "output_type": "stream",
     "text": [
      "Enabling notebook extension jupyter-js-widgets/extension...\n",
      "      - Validating: \u001b[32mOK\u001b[0m\n"
     ]
    }
   ],
   "source": [
    "!jupyter nbextension enable --py widgetsnbextension"
   ]
  },
  {
   "cell_type": "code",
   "execution_count": 315,
   "metadata": {},
   "outputs": [
    {
     "data": {
      "application/vnd.jupyter.widget-view+json": {
       "model_id": "d986757a8354428cb88da01576472dfa",
       "version_major": 2,
       "version_minor": 0
      },
      "text/plain": [
       "  0%|          | 0/334 [00:00<?, ?it/s]"
      ]
     },
     "metadata": {},
     "output_type": "display_data"
    },
    {
     "name": "stdout",
     "output_type": "stream",
     "text": [
      "Epoch [0], train_loss: 4.7812, val_loss: 4.5188, val_acc: 0.0813\n"
     ]
    },
    {
     "data": {
      "application/vnd.jupyter.widget-view+json": {
       "model_id": "ac0df123d59f4e878820cd028fbe5dc1",
       "version_major": 2,
       "version_minor": 0
      },
      "text/plain": [
       "  0%|          | 0/334 [00:00<?, ?it/s]"
      ]
     },
     "metadata": {},
     "output_type": "display_data"
    },
    {
     "name": "stdout",
     "output_type": "stream",
     "text": [
      "Epoch [1], train_loss: 4.2279, val_loss: 4.1728, val_acc: 0.1705\n"
     ]
    },
    {
     "data": {
      "application/vnd.jupyter.widget-view+json": {
       "model_id": "c87d967aaa0242b58723ed4118637f80",
       "version_major": 2,
       "version_minor": 0
      },
      "text/plain": [
       "  0%|          | 0/334 [00:00<?, ?it/s]"
      ]
     },
     "metadata": {},
     "output_type": "display_data"
    },
    {
     "name": "stdout",
     "output_type": "stream",
     "text": [
      "Epoch [2], train_loss: 3.7033, val_loss: 3.9535, val_acc: 0.2771\n"
     ]
    },
    {
     "data": {
      "application/vnd.jupyter.widget-view+json": {
       "model_id": "056df0f6b5e54fab9758270248573fdf",
       "version_major": 2,
       "version_minor": 0
      },
      "text/plain": [
       "  0%|          | 0/334 [00:00<?, ?it/s]"
      ]
     },
     "metadata": {},
     "output_type": "display_data"
    },
    {
     "name": "stdout",
     "output_type": "stream",
     "text": [
      "Epoch [3], train_loss: 3.2529, val_loss: 3.8748, val_acc: 0.3035\n"
     ]
    },
    {
     "data": {
      "application/vnd.jupyter.widget-view+json": {
       "model_id": "211e700c0b994ddea52aa93249768086",
       "version_major": 2,
       "version_minor": 0
      },
      "text/plain": [
       "  0%|          | 0/334 [00:00<?, ?it/s]"
      ]
     },
     "metadata": {},
     "output_type": "display_data"
    },
    {
     "name": "stdout",
     "output_type": "stream",
     "text": [
      "Epoch [4], train_loss: 2.7991, val_loss: 3.8950, val_acc: 0.3597\n"
     ]
    },
    {
     "data": {
      "application/vnd.jupyter.widget-view+json": {
       "model_id": "081dd6a692c247ac9cd65672ae31feb8",
       "version_major": 2,
       "version_minor": 0
      },
      "text/plain": [
       "  0%|          | 0/334 [00:00<?, ?it/s]"
      ]
     },
     "metadata": {},
     "output_type": "display_data"
    },
    {
     "name": "stdout",
     "output_type": "stream",
     "text": [
      "Epoch [5], train_loss: 2.4509, val_loss: 4.0764, val_acc: 0.3684\n"
     ]
    },
    {
     "data": {
      "application/vnd.jupyter.widget-view+json": {
       "model_id": "be10b504e9334f89a6a547fa685fd597",
       "version_major": 2,
       "version_minor": 0
      },
      "text/plain": [
       "  0%|          | 0/334 [00:00<?, ?it/s]"
      ]
     },
     "metadata": {},
     "output_type": "display_data"
    },
    {
     "name": "stdout",
     "output_type": "stream",
     "text": [
      "Epoch [6], train_loss: 2.1071, val_loss: 4.0610, val_acc: 0.3615\n"
     ]
    },
    {
     "data": {
      "application/vnd.jupyter.widget-view+json": {
       "model_id": "d92e7c0b145f4710997856e69aab2b72",
       "version_major": 2,
       "version_minor": 0
      },
      "text/plain": [
       "  0%|          | 0/334 [00:00<?, ?it/s]"
      ]
     },
     "metadata": {},
     "output_type": "display_data"
    },
    {
     "name": "stdout",
     "output_type": "stream",
     "text": [
      "Epoch [7], train_loss: 1.7828, val_loss: 4.4330, val_acc: 0.3410\n"
     ]
    },
    {
     "data": {
      "application/vnd.jupyter.widget-view+json": {
       "model_id": "369dd86bebcb4edc816141ffeff1e0c8",
       "version_major": 2,
       "version_minor": 0
      },
      "text/plain": [
       "  0%|          | 0/334 [00:00<?, ?it/s]"
      ]
     },
     "metadata": {},
     "output_type": "display_data"
    },
    {
     "name": "stdout",
     "output_type": "stream",
     "text": [
      "Epoch [8], train_loss: 1.5228, val_loss: 4.8786, val_acc: 0.3840\n"
     ]
    },
    {
     "data": {
      "application/vnd.jupyter.widget-view+json": {
       "model_id": "cafe67769d9e427f879da493a9f46ab8",
       "version_major": 2,
       "version_minor": 0
      },
      "text/plain": [
       "  0%|          | 0/334 [00:00<?, ?it/s]"
      ]
     },
     "metadata": {},
     "output_type": "display_data"
    },
    {
     "name": "stdout",
     "output_type": "stream",
     "text": [
      "Epoch [9], train_loss: 1.2671, val_loss: 5.3668, val_acc: 0.3653\n"
     ]
    }
   ],
   "source": [
    "base_history += fit(num_epochs, lr, base_model, train_dl, val_dl, opt_func)"
   ]
  },
  {
   "cell_type": "code",
   "execution_count": 316,
   "metadata": {},
   "outputs": [
    {
     "name": "stdout",
     "output_type": "stream",
     "text": [
      "627\n"
     ]
    }
   ],
   "source": [
    "print(test_size)\n",
    "num_epochs = 50\n",
    "opt_func = torch.optim.Adam\n",
    "lr = 0.001"
   ]
  },
  {
   "cell_type": "code",
   "execution_count": 317,
   "metadata": {
    "id": "tYoHc3F6U2aQ"
   },
   "outputs": [
    {
     "data": {
      "application/vnd.jupyter.widget-view+json": {
       "model_id": "443d2498ce564400b292fb9a29c4de4a",
       "version_major": 2,
       "version_minor": 0
      },
      "text/plain": [
       "  0%|          | 0/334 [00:00<?, ?it/s]"
      ]
     },
     "metadata": {},
     "output_type": "display_data"
    },
    {
     "name": "stdout",
     "output_type": "stream",
     "text": [
      "Epoch [0], train_loss: 4.9357, val_loss: 4.9695, val_acc: 0.0556\n"
     ]
    },
    {
     "data": {
      "application/vnd.jupyter.widget-view+json": {
       "model_id": "a138d24481124a12a4d5aaef6f8d252b",
       "version_major": 2,
       "version_minor": 0
      },
      "text/plain": [
       "  0%|          | 0/334 [00:00<?, ?it/s]"
      ]
     },
     "metadata": {},
     "output_type": "display_data"
    },
    {
     "name": "stdout",
     "output_type": "stream",
     "text": [
      "Epoch [1], train_loss: 4.4560, val_loss: 4.2928, val_acc: 0.1792\n"
     ]
    },
    {
     "data": {
      "application/vnd.jupyter.widget-view+json": {
       "model_id": "ae62ec140af749eea19a1124060a58d5",
       "version_major": 2,
       "version_minor": 0
      },
      "text/plain": [
       "  0%|          | 0/334 [00:00<?, ?it/s]"
      ]
     },
     "metadata": {},
     "output_type": "display_data"
    },
    {
     "name": "stdout",
     "output_type": "stream",
     "text": [
      "Epoch [2], train_loss: 3.9413, val_loss: 4.0844, val_acc: 0.2316\n"
     ]
    },
    {
     "data": {
      "application/vnd.jupyter.widget-view+json": {
       "model_id": "3444f9d68d19407d811d3c4be1b5ba6d",
       "version_major": 2,
       "version_minor": 0
      },
      "text/plain": [
       "  0%|          | 0/334 [00:00<?, ?it/s]"
      ]
     },
     "metadata": {},
     "output_type": "display_data"
    },
    {
     "name": "stdout",
     "output_type": "stream",
     "text": [
      "Epoch [3], train_loss: 3.5854, val_loss: 4.0363, val_acc: 0.2441\n"
     ]
    },
    {
     "data": {
      "application/vnd.jupyter.widget-view+json": {
       "model_id": "786c8772b08f48b0a5c51f42a6af3dea",
       "version_major": 2,
       "version_minor": 0
      },
      "text/plain": [
       "  0%|          | 0/334 [00:00<?, ?it/s]"
      ]
     },
     "metadata": {},
     "output_type": "display_data"
    },
    {
     "name": "stdout",
     "output_type": "stream",
     "text": [
      "Epoch [4], train_loss: 3.2344, val_loss: 3.9848, val_acc: 0.2823\n"
     ]
    },
    {
     "data": {
      "application/vnd.jupyter.widget-view+json": {
       "model_id": "6fcae6e57b1a4329a1624b015739e00d",
       "version_major": 2,
       "version_minor": 0
      },
      "text/plain": [
       "  0%|          | 0/334 [00:00<?, ?it/s]"
      ]
     },
     "metadata": {},
     "output_type": "display_data"
    },
    {
     "name": "stdout",
     "output_type": "stream",
     "text": [
      "Epoch [5], train_loss: 2.9493, val_loss: 4.2111, val_acc: 0.2972\n"
     ]
    },
    {
     "data": {
      "application/vnd.jupyter.widget-view+json": {
       "model_id": "73e2d42f17fd4b329e5eb710a4c2ec80",
       "version_major": 2,
       "version_minor": 0
      },
      "text/plain": [
       "  0%|          | 0/334 [00:00<?, ?it/s]"
      ]
     },
     "metadata": {},
     "output_type": "display_data"
    },
    {
     "name": "stdout",
     "output_type": "stream",
     "text": [
      "Epoch [6], train_loss: 2.6812, val_loss: 4.1448, val_acc: 0.2760\n"
     ]
    },
    {
     "data": {
      "application/vnd.jupyter.widget-view+json": {
       "model_id": "5d11f66d6ed44d10a86813b308c728d9",
       "version_major": 2,
       "version_minor": 0
      },
      "text/plain": [
       "  0%|          | 0/334 [00:00<?, ?it/s]"
      ]
     },
     "metadata": {},
     "output_type": "display_data"
    },
    {
     "name": "stdout",
     "output_type": "stream",
     "text": [
      "Epoch [7], train_loss: 2.3886, val_loss: 4.3971, val_acc: 0.2910\n"
     ]
    },
    {
     "data": {
      "application/vnd.jupyter.widget-view+json": {
       "model_id": "4b679a06a0ab4b1f9cc0a6d6dad648f0",
       "version_major": 2,
       "version_minor": 0
      },
      "text/plain": [
       "  0%|          | 0/334 [00:00<?, ?it/s]"
      ]
     },
     "metadata": {},
     "output_type": "display_data"
    },
    {
     "name": "stdout",
     "output_type": "stream",
     "text": [
      "Epoch [8], train_loss: 2.1225, val_loss: 4.9992, val_acc: 0.2823\n"
     ]
    },
    {
     "data": {
      "application/vnd.jupyter.widget-view+json": {
       "model_id": "d759e90ffae4442d838be8f69317bf0c",
       "version_major": 2,
       "version_minor": 0
      },
      "text/plain": [
       "  0%|          | 0/334 [00:00<?, ?it/s]"
      ]
     },
     "metadata": {},
     "output_type": "display_data"
    },
    {
     "name": "stdout",
     "output_type": "stream",
     "text": [
      "Epoch [9], train_loss: 1.8942, val_loss: 5.0507, val_acc: 0.2823\n"
     ]
    },
    {
     "data": {
      "application/vnd.jupyter.widget-view+json": {
       "model_id": "61b9105326a14d138d6f37f2eeebb697",
       "version_major": 2,
       "version_minor": 0
      },
      "text/plain": [
       "  0%|          | 0/334 [00:00<?, ?it/s]"
      ]
     },
     "metadata": {},
     "output_type": "display_data"
    },
    {
     "name": "stdout",
     "output_type": "stream",
     "text": [
      "Epoch [10], train_loss: 1.6371, val_loss: 5.3860, val_acc: 0.2847\n"
     ]
    },
    {
     "data": {
      "application/vnd.jupyter.widget-view+json": {
       "model_id": "cb30cd3db9fb4313aacf2c01e4e2767d",
       "version_major": 2,
       "version_minor": 0
      },
      "text/plain": [
       "  0%|          | 0/334 [00:00<?, ?it/s]"
      ]
     },
     "metadata": {},
     "output_type": "display_data"
    },
    {
     "name": "stdout",
     "output_type": "stream",
     "text": [
      "Epoch [11], train_loss: 1.3909, val_loss: 5.6965, val_acc: 0.2674\n"
     ]
    },
    {
     "data": {
      "application/vnd.jupyter.widget-view+json": {
       "model_id": "86bd86a6f89642c1a568f3394abb103a",
       "version_major": 2,
       "version_minor": 0
      },
      "text/plain": [
       "  0%|          | 0/334 [00:00<?, ?it/s]"
      ]
     },
     "metadata": {},
     "output_type": "display_data"
    },
    {
     "name": "stdout",
     "output_type": "stream",
     "text": [
      "Epoch [12], train_loss: 1.2448, val_loss: 6.1128, val_acc: 0.3042\n"
     ]
    },
    {
     "data": {
      "application/vnd.jupyter.widget-view+json": {
       "model_id": "5a823c5983a740fca7a0d08ac409a3c1",
       "version_major": 2,
       "version_minor": 0
      },
      "text/plain": [
       "  0%|          | 0/334 [00:00<?, ?it/s]"
      ]
     },
     "metadata": {},
     "output_type": "display_data"
    },
    {
     "name": "stdout",
     "output_type": "stream",
     "text": [
      "Epoch [13], train_loss: 1.0730, val_loss: 6.4605, val_acc: 0.2691\n"
     ]
    },
    {
     "data": {
      "application/vnd.jupyter.widget-view+json": {
       "model_id": "3ce56e34146c4e6287aa499f9f7c2686",
       "version_major": 2,
       "version_minor": 0
      },
      "text/plain": [
       "  0%|          | 0/334 [00:00<?, ?it/s]"
      ]
     },
     "metadata": {},
     "output_type": "display_data"
    },
    {
     "name": "stdout",
     "output_type": "stream",
     "text": [
      "Epoch [14], train_loss: 0.8992, val_loss: 7.1500, val_acc: 0.2878\n"
     ]
    },
    {
     "data": {
      "application/vnd.jupyter.widget-view+json": {
       "model_id": "d138aa37ad624ed4936594aff3a3fb10",
       "version_major": 2,
       "version_minor": 0
      },
      "text/plain": [
       "  0%|          | 0/334 [00:00<?, ?it/s]"
      ]
     },
     "metadata": {},
     "output_type": "display_data"
    },
    {
     "name": "stdout",
     "output_type": "stream",
     "text": [
      "Epoch [15], train_loss: 0.8060, val_loss: 7.7612, val_acc: 0.2580\n"
     ]
    },
    {
     "data": {
      "application/vnd.jupyter.widget-view+json": {
       "model_id": "15f88b223f624dce89e30493f6ae3948",
       "version_major": 2,
       "version_minor": 0
      },
      "text/plain": [
       "  0%|          | 0/334 [00:00<?, ?it/s]"
      ]
     },
     "metadata": {},
     "output_type": "display_data"
    },
    {
     "name": "stdout",
     "output_type": "stream",
     "text": [
      "Epoch [16], train_loss: 0.7000, val_loss: 7.9697, val_acc: 0.2823\n"
     ]
    },
    {
     "data": {
      "application/vnd.jupyter.widget-view+json": {
       "model_id": "df3acb24e9084e849399673ae4106529",
       "version_major": 2,
       "version_minor": 0
      },
      "text/plain": [
       "  0%|          | 0/334 [00:00<?, ?it/s]"
      ]
     },
     "metadata": {},
     "output_type": "display_data"
    },
    {
     "name": "stdout",
     "output_type": "stream",
     "text": [
      "Epoch [17], train_loss: 0.6071, val_loss: 8.8796, val_acc: 0.2559\n"
     ]
    },
    {
     "data": {
      "application/vnd.jupyter.widget-view+json": {
       "model_id": "f1bc44a76d1b4f9a812e811ce8053f21",
       "version_major": 2,
       "version_minor": 0
      },
      "text/plain": [
       "  0%|          | 0/334 [00:00<?, ?it/s]"
      ]
     },
     "metadata": {},
     "output_type": "display_data"
    },
    {
     "name": "stdout",
     "output_type": "stream",
     "text": [
      "Epoch [18], train_loss: 0.5288, val_loss: 9.1917, val_acc: 0.2785\n"
     ]
    },
    {
     "data": {
      "application/vnd.jupyter.widget-view+json": {
       "model_id": "08f382cd077d4a40b0de1ba37137a959",
       "version_major": 2,
       "version_minor": 0
      },
      "text/plain": [
       "  0%|          | 0/334 [00:00<?, ?it/s]"
      ]
     },
     "metadata": {},
     "output_type": "display_data"
    },
    {
     "name": "stdout",
     "output_type": "stream",
     "text": [
      "Epoch [19], train_loss: 0.5121, val_loss: 9.4462, val_acc: 0.2667\n"
     ]
    },
    {
     "data": {
      "application/vnd.jupyter.widget-view+json": {
       "model_id": "8dbdd20b5b1d4448a59ba3cea31b7dcf",
       "version_major": 2,
       "version_minor": 0
      },
      "text/plain": [
       "  0%|          | 0/334 [00:00<?, ?it/s]"
      ]
     },
     "metadata": {},
     "output_type": "display_data"
    },
    {
     "name": "stdout",
     "output_type": "stream",
     "text": [
      "Epoch [20], train_loss: 0.3974, val_loss: 9.6197, val_acc: 0.2840\n"
     ]
    },
    {
     "data": {
      "application/vnd.jupyter.widget-view+json": {
       "model_id": "e2d388abe522490197a048ef320296aa",
       "version_major": 2,
       "version_minor": 0
      },
      "text/plain": [
       "  0%|          | 0/334 [00:00<?, ?it/s]"
      ]
     },
     "metadata": {},
     "output_type": "display_data"
    },
    {
     "name": "stdout",
     "output_type": "stream",
     "text": [
      "Epoch [21], train_loss: 0.3882, val_loss: 10.7523, val_acc: 0.3003\n"
     ]
    },
    {
     "data": {
      "application/vnd.jupyter.widget-view+json": {
       "model_id": "445c8de8aaa349d3abb2e989e770e9f8",
       "version_major": 2,
       "version_minor": 0
      },
      "text/plain": [
       "  0%|          | 0/334 [00:00<?, ?it/s]"
      ]
     },
     "metadata": {},
     "output_type": "display_data"
    },
    {
     "name": "stdout",
     "output_type": "stream",
     "text": [
      "Epoch [22], train_loss: 0.3736, val_loss: 11.2352, val_acc: 0.2892\n"
     ]
    },
    {
     "data": {
      "application/vnd.jupyter.widget-view+json": {
       "model_id": "b502962b1de54adebdd7c0360e138ffa",
       "version_major": 2,
       "version_minor": 0
      },
      "text/plain": [
       "  0%|          | 0/334 [00:00<?, ?it/s]"
      ]
     },
     "metadata": {},
     "output_type": "display_data"
    },
    {
     "name": "stdout",
     "output_type": "stream",
     "text": [
      "Epoch [23], train_loss: 0.3375, val_loss: 11.9034, val_acc: 0.2792\n"
     ]
    },
    {
     "data": {
      "application/vnd.jupyter.widget-view+json": {
       "model_id": "a6a1cb19fd1041e493d293b9d39d0dfd",
       "version_major": 2,
       "version_minor": 0
      },
      "text/plain": [
       "  0%|          | 0/334 [00:00<?, ?it/s]"
      ]
     },
     "metadata": {},
     "output_type": "display_data"
    },
    {
     "name": "stdout",
     "output_type": "stream",
     "text": [
      "Epoch [24], train_loss: 0.3076, val_loss: 12.4391, val_acc: 0.2917\n"
     ]
    },
    {
     "data": {
      "application/vnd.jupyter.widget-view+json": {
       "model_id": "b4e664f69aa5419e88016212ae5b6487",
       "version_major": 2,
       "version_minor": 0
      },
      "text/plain": [
       "  0%|          | 0/334 [00:00<?, ?it/s]"
      ]
     },
     "metadata": {},
     "output_type": "display_data"
    },
    {
     "name": "stdout",
     "output_type": "stream",
     "text": [
      "Epoch [25], train_loss: 0.2720, val_loss: 13.2115, val_acc: 0.2830\n"
     ]
    },
    {
     "data": {
      "application/vnd.jupyter.widget-view+json": {
       "model_id": "7f90b9d54a3740febd664e9e82f02c15",
       "version_major": 2,
       "version_minor": 0
      },
      "text/plain": [
       "  0%|          | 0/334 [00:00<?, ?it/s]"
      ]
     },
     "metadata": {},
     "output_type": "display_data"
    },
    {
     "name": "stdout",
     "output_type": "stream",
     "text": [
      "Epoch [26], train_loss: 0.2997, val_loss: 12.7151, val_acc: 0.2854\n"
     ]
    },
    {
     "data": {
      "application/vnd.jupyter.widget-view+json": {
       "model_id": "1e01d041deff4f408349013089855c4f",
       "version_major": 2,
       "version_minor": 0
      },
      "text/plain": [
       "  0%|          | 0/334 [00:00<?, ?it/s]"
      ]
     },
     "metadata": {},
     "output_type": "display_data"
    },
    {
     "name": "stdout",
     "output_type": "stream",
     "text": [
      "Epoch [27], train_loss: 0.2445, val_loss: 13.0876, val_acc: 0.2885\n"
     ]
    },
    {
     "data": {
      "application/vnd.jupyter.widget-view+json": {
       "model_id": "83b600932ba14a2cad6ced3a8dbdb963",
       "version_major": 2,
       "version_minor": 0
      },
      "text/plain": [
       "  0%|          | 0/334 [00:00<?, ?it/s]"
      ]
     },
     "metadata": {},
     "output_type": "display_data"
    },
    {
     "name": "stdout",
     "output_type": "stream",
     "text": [
      "Epoch [28], train_loss: 0.2383, val_loss: 13.5954, val_acc: 0.2691\n"
     ]
    },
    {
     "data": {
      "application/vnd.jupyter.widget-view+json": {
       "model_id": "f73243e9baf34c5f8d22126f6b91eff3",
       "version_major": 2,
       "version_minor": 0
      },
      "text/plain": [
       "  0%|          | 0/334 [00:00<?, ?it/s]"
      ]
     },
     "metadata": {},
     "output_type": "display_data"
    },
    {
     "name": "stdout",
     "output_type": "stream",
     "text": [
      "Epoch [29], train_loss: 0.2713, val_loss: 13.3136, val_acc: 0.2667\n"
     ]
    },
    {
     "data": {
      "application/vnd.jupyter.widget-view+json": {
       "model_id": "b06eea9dbbd24ce68397d7bfda3e7929",
       "version_major": 2,
       "version_minor": 0
      },
      "text/plain": [
       "  0%|          | 0/334 [00:00<?, ?it/s]"
      ]
     },
     "metadata": {},
     "output_type": "display_data"
    },
    {
     "name": "stdout",
     "output_type": "stream",
     "text": [
      "Epoch [30], train_loss: 0.2412, val_loss: 14.6833, val_acc: 0.2653\n"
     ]
    },
    {
     "data": {
      "application/vnd.jupyter.widget-view+json": {
       "model_id": "2f35ac36ee964d238ff75ff50de4d006",
       "version_major": 2,
       "version_minor": 0
      },
      "text/plain": [
       "  0%|          | 0/334 [00:00<?, ?it/s]"
      ]
     },
     "metadata": {},
     "output_type": "display_data"
    },
    {
     "name": "stdout",
     "output_type": "stream",
     "text": [
      "Epoch [31], train_loss: 0.1954, val_loss: 15.4177, val_acc: 0.2941\n"
     ]
    },
    {
     "data": {
      "application/vnd.jupyter.widget-view+json": {
       "model_id": "e1cd63f11d964f41a869465812bd0749",
       "version_major": 2,
       "version_minor": 0
      },
      "text/plain": [
       "  0%|          | 0/334 [00:00<?, ?it/s]"
      ]
     },
     "metadata": {},
     "output_type": "display_data"
    },
    {
     "name": "stdout",
     "output_type": "stream",
     "text": [
      "Epoch [32], train_loss: 0.3060, val_loss: 14.6058, val_acc: 0.2910\n"
     ]
    },
    {
     "data": {
      "application/vnd.jupyter.widget-view+json": {
       "model_id": "86ccaa92b83d42309b97e8b9fc8e2e8d",
       "version_major": 2,
       "version_minor": 0
      },
      "text/plain": [
       "  0%|          | 0/334 [00:00<?, ?it/s]"
      ]
     },
     "metadata": {},
     "output_type": "display_data"
    },
    {
     "name": "stdout",
     "output_type": "stream",
     "text": [
      "Epoch [33], train_loss: 0.2451, val_loss: 14.6765, val_acc: 0.2566\n"
     ]
    },
    {
     "data": {
      "application/vnd.jupyter.widget-view+json": {
       "model_id": "68c76c934966402b84dd4935c0dc2c55",
       "version_major": 2,
       "version_minor": 0
      },
      "text/plain": [
       "  0%|          | 0/334 [00:00<?, ?it/s]"
      ]
     },
     "metadata": {},
     "output_type": "display_data"
    },
    {
     "name": "stdout",
     "output_type": "stream",
     "text": [
      "Epoch [34], train_loss: 0.2165, val_loss: 16.2358, val_acc: 0.2573\n"
     ]
    },
    {
     "data": {
      "application/vnd.jupyter.widget-view+json": {
       "model_id": "cc1dc614e0a5415cbc1f6bd0059a9e8c",
       "version_major": 2,
       "version_minor": 0
      },
      "text/plain": [
       "  0%|          | 0/334 [00:00<?, ?it/s]"
      ]
     },
     "metadata": {},
     "output_type": "display_data"
    },
    {
     "name": "stdout",
     "output_type": "stream",
     "text": [
      "Epoch [35], train_loss: 0.1998, val_loss: 16.0646, val_acc: 0.2691\n"
     ]
    },
    {
     "data": {
      "application/vnd.jupyter.widget-view+json": {
       "model_id": "de201b939fd145b997fd6e3ba2fc72dd",
       "version_major": 2,
       "version_minor": 0
      },
      "text/plain": [
       "  0%|          | 0/334 [00:00<?, ?it/s]"
      ]
     },
     "metadata": {},
     "output_type": "display_data"
    },
    {
     "name": "stdout",
     "output_type": "stream",
     "text": [
      "Epoch [36], train_loss: 0.2003, val_loss: 16.1693, val_acc: 0.2597\n"
     ]
    },
    {
     "data": {
      "application/vnd.jupyter.widget-view+json": {
       "model_id": "b0c04b661a124e668beb46aaac32c48c",
       "version_major": 2,
       "version_minor": 0
      },
      "text/plain": [
       "  0%|          | 0/334 [00:00<?, ?it/s]"
      ]
     },
     "metadata": {},
     "output_type": "display_data"
    },
    {
     "name": "stdout",
     "output_type": "stream",
     "text": [
      "Epoch [37], train_loss: 0.1904, val_loss: 15.5741, val_acc: 0.2934\n"
     ]
    },
    {
     "data": {
      "application/vnd.jupyter.widget-view+json": {
       "model_id": "e31af32b22da4459a6576650f6896f83",
       "version_major": 2,
       "version_minor": 0
      },
      "text/plain": [
       "  0%|          | 0/334 [00:00<?, ?it/s]"
      ]
     },
     "metadata": {},
     "output_type": "display_data"
    },
    {
     "name": "stdout",
     "output_type": "stream",
     "text": [
      "Epoch [38], train_loss: 0.1457, val_loss: 17.5492, val_acc: 0.2573\n"
     ]
    },
    {
     "data": {
      "application/vnd.jupyter.widget-view+json": {
       "model_id": "b874acbee78844068ed473958b006151",
       "version_major": 2,
       "version_minor": 0
      },
      "text/plain": [
       "  0%|          | 0/334 [00:00<?, ?it/s]"
      ]
     },
     "metadata": {},
     "output_type": "display_data"
    },
    {
     "name": "stdout",
     "output_type": "stream",
     "text": [
      "Epoch [39], train_loss: 0.1306, val_loss: 17.3114, val_acc: 0.2660\n"
     ]
    },
    {
     "data": {
      "application/vnd.jupyter.widget-view+json": {
       "model_id": "4d877953a87f45fdb04c1e81927d959a",
       "version_major": 2,
       "version_minor": 0
      },
      "text/plain": [
       "  0%|          | 0/334 [00:00<?, ?it/s]"
      ]
     },
     "metadata": {},
     "output_type": "display_data"
    },
    {
     "name": "stdout",
     "output_type": "stream",
     "text": [
      "Epoch [40], train_loss: 0.1556, val_loss: 17.9774, val_acc: 0.2760\n"
     ]
    },
    {
     "data": {
      "application/vnd.jupyter.widget-view+json": {
       "model_id": "9011da613bb745028b79c56e35f8f5bf",
       "version_major": 2,
       "version_minor": 0
      },
      "text/plain": [
       "  0%|          | 0/334 [00:00<?, ?it/s]"
      ]
     },
     "metadata": {},
     "output_type": "display_data"
    },
    {
     "name": "stdout",
     "output_type": "stream",
     "text": [
      "Epoch [41], train_loss: 0.2717, val_loss: 15.4870, val_acc: 0.2417\n"
     ]
    },
    {
     "data": {
      "application/vnd.jupyter.widget-view+json": {
       "model_id": "9e869905dd7a46729c168412c9e543af",
       "version_major": 2,
       "version_minor": 0
      },
      "text/plain": [
       "  0%|          | 0/334 [00:00<?, ?it/s]"
      ]
     },
     "metadata": {},
     "output_type": "display_data"
    },
    {
     "name": "stdout",
     "output_type": "stream",
     "text": [
      "Epoch [42], train_loss: 0.1772, val_loss: 18.4256, val_acc: 0.2760\n"
     ]
    },
    {
     "data": {
      "application/vnd.jupyter.widget-view+json": {
       "model_id": "d8e7304b2ff2405caf8321e790a40e28",
       "version_major": 2,
       "version_minor": 0
      },
      "text/plain": [
       "  0%|          | 0/334 [00:00<?, ?it/s]"
      ]
     },
     "metadata": {},
     "output_type": "display_data"
    },
    {
     "name": "stdout",
     "output_type": "stream",
     "text": [
      "Epoch [43], train_loss: 0.2047, val_loss: 16.5789, val_acc: 0.2597\n"
     ]
    },
    {
     "data": {
      "application/vnd.jupyter.widget-view+json": {
       "model_id": "656ab8d091ac4577ae36e9d257878f41",
       "version_major": 2,
       "version_minor": 0
      },
      "text/plain": [
       "  0%|          | 0/334 [00:00<?, ?it/s]"
      ]
     },
     "metadata": {},
     "output_type": "display_data"
    },
    {
     "name": "stdout",
     "output_type": "stream",
     "text": [
      "Epoch [44], train_loss: 0.1943, val_loss: 17.2899, val_acc: 0.2542\n"
     ]
    },
    {
     "data": {
      "application/vnd.jupyter.widget-view+json": {
       "model_id": "6248e29fbc7a4827ba99aa83b070e79c",
       "version_major": 2,
       "version_minor": 0
      },
      "text/plain": [
       "  0%|          | 0/334 [00:00<?, ?it/s]"
      ]
     },
     "metadata": {},
     "output_type": "display_data"
    },
    {
     "name": "stdout",
     "output_type": "stream",
     "text": [
      "Epoch [45], train_loss: 0.1947, val_loss: 18.0521, val_acc: 0.2510\n"
     ]
    },
    {
     "data": {
      "application/vnd.jupyter.widget-view+json": {
       "model_id": "b5f9ed1e59a44fc5a4e6363a924145ec",
       "version_major": 2,
       "version_minor": 0
      },
      "text/plain": [
       "  0%|          | 0/334 [00:00<?, ?it/s]"
      ]
     },
     "metadata": {},
     "output_type": "display_data"
    },
    {
     "name": "stdout",
     "output_type": "stream",
     "text": [
      "Epoch [46], train_loss: 0.1354, val_loss: 17.7582, val_acc: 0.2635\n"
     ]
    },
    {
     "data": {
      "application/vnd.jupyter.widget-view+json": {
       "model_id": "02acb499dc5c426aba595fd38cc0c5ca",
       "version_major": 2,
       "version_minor": 0
      },
      "text/plain": [
       "  0%|          | 0/334 [00:00<?, ?it/s]"
      ]
     },
     "metadata": {},
     "output_type": "display_data"
    },
    {
     "name": "stdout",
     "output_type": "stream",
     "text": [
      "Epoch [47], train_loss: 0.1517, val_loss: 17.5030, val_acc: 0.3104\n"
     ]
    },
    {
     "data": {
      "application/vnd.jupyter.widget-view+json": {
       "model_id": "1fcf6a91fc534acba44d989c8a2185b4",
       "version_major": 2,
       "version_minor": 0
      },
      "text/plain": [
       "  0%|          | 0/334 [00:00<?, ?it/s]"
      ]
     },
     "metadata": {},
     "output_type": "display_data"
    },
    {
     "name": "stdout",
     "output_type": "stream",
     "text": [
      "Epoch [48], train_loss: 0.1742, val_loss: 17.5753, val_acc: 0.2885\n"
     ]
    },
    {
     "data": {
      "application/vnd.jupyter.widget-view+json": {
       "model_id": "0e58d82856ee4f4a876b15ef8b05c6f8",
       "version_major": 2,
       "version_minor": 0
      },
      "text/plain": [
       "  0%|          | 0/334 [00:00<?, ?it/s]"
      ]
     },
     "metadata": {},
     "output_type": "display_data"
    },
    {
     "name": "stdout",
     "output_type": "stream",
     "text": [
      "Epoch [49], train_loss: 0.2826, val_loss: 17.6750, val_acc: 0.2785\n"
     ]
    }
   ],
   "source": [
    "model = ConvolutionalNetwork(num_classes)\n",
    "model = to_device(model, device)\n",
    "history+= fit(num_epochs, lr, model, train_dl, val_dl, opt_func)"
   ]
  },
  {
   "cell_type": "code",
   "execution_count": 318,
   "metadata": {},
   "outputs": [
    {
     "data": {
      "application/vnd.jupyter.widget-view+json": {
       "model_id": "533cc614110249e0877efce89b0cfa91",
       "version_major": 2,
       "version_minor": 0
      },
      "text/plain": [
       "  0%|          | 0/334 [00:00<?, ?it/s]"
      ]
     },
     "metadata": {},
     "output_type": "display_data"
    },
    {
     "name": "stdout",
     "output_type": "stream",
     "text": [
      "Epoch [0], train_loss: 4.9231, val_loss: 4.7034, val_acc: 0.0712\n"
     ]
    },
    {
     "data": {
      "application/vnd.jupyter.widget-view+json": {
       "model_id": "f6ea68f0b3fc40649dcd7df34a8f9413",
       "version_major": 2,
       "version_minor": 0
      },
      "text/plain": [
       "  0%|          | 0/334 [00:00<?, ?it/s]"
      ]
     },
     "metadata": {},
     "output_type": "display_data"
    },
    {
     "name": "stdout",
     "output_type": "stream",
     "text": [
      "Epoch [1], train_loss: 4.5586, val_loss: 4.4102, val_acc: 0.1212\n"
     ]
    },
    {
     "data": {
      "application/vnd.jupyter.widget-view+json": {
       "model_id": "db20ad5bab874e92b53551ad84754af9",
       "version_major": 2,
       "version_minor": 0
      },
      "text/plain": [
       "  0%|          | 0/334 [00:00<?, ?it/s]"
      ]
     },
     "metadata": {},
     "output_type": "display_data"
    },
    {
     "name": "stdout",
     "output_type": "stream",
     "text": [
      "Epoch [2], train_loss: 4.2871, val_loss: 4.2268, val_acc: 0.1698\n"
     ]
    },
    {
     "data": {
      "application/vnd.jupyter.widget-view+json": {
       "model_id": "dcb8634f1f9d447ba972ed5814fe73c3",
       "version_major": 2,
       "version_minor": 0
      },
      "text/plain": [
       "  0%|          | 0/334 [00:00<?, ?it/s]"
      ]
     },
     "metadata": {},
     "output_type": "display_data"
    },
    {
     "name": "stdout",
     "output_type": "stream",
     "text": [
      "Epoch [3], train_loss: 4.0394, val_loss: 4.1092, val_acc: 0.2403\n"
     ]
    },
    {
     "data": {
      "application/vnd.jupyter.widget-view+json": {
       "model_id": "0deefa8ff4cf4d89b6cace3116558c8e",
       "version_major": 2,
       "version_minor": 0
      },
      "text/plain": [
       "  0%|          | 0/334 [00:00<?, ?it/s]"
      ]
     },
     "metadata": {},
     "output_type": "display_data"
    },
    {
     "name": "stdout",
     "output_type": "stream",
     "text": [
      "Epoch [4], train_loss: 3.8210, val_loss: 3.9268, val_acc: 0.2465\n"
     ]
    },
    {
     "data": {
      "application/vnd.jupyter.widget-view+json": {
       "model_id": "652c82bfa9a8471dace3188b7869eca3",
       "version_major": 2,
       "version_minor": 0
      },
      "text/plain": [
       "  0%|          | 0/334 [00:00<?, ?it/s]"
      ]
     },
     "metadata": {},
     "output_type": "display_data"
    },
    {
     "name": "stdout",
     "output_type": "stream",
     "text": [
      "Epoch [5], train_loss: 3.6018, val_loss: 3.7164, val_acc: 0.3083\n"
     ]
    },
    {
     "data": {
      "application/vnd.jupyter.widget-view+json": {
       "model_id": "be22fd6dcf0d470b95b0e9169b434e1b",
       "version_major": 2,
       "version_minor": 0
      },
      "text/plain": [
       "  0%|          | 0/334 [00:00<?, ?it/s]"
      ]
     },
     "metadata": {},
     "output_type": "display_data"
    },
    {
     "name": "stdout",
     "output_type": "stream",
     "text": [
      "Epoch [6], train_loss: 3.4449, val_loss: 3.7051, val_acc: 0.3615\n"
     ]
    },
    {
     "data": {
      "application/vnd.jupyter.widget-view+json": {
       "model_id": "07a001b52c0f4552b46a1ea4f43ed84d",
       "version_major": 2,
       "version_minor": 0
      },
      "text/plain": [
       "  0%|          | 0/334 [00:00<?, ?it/s]"
      ]
     },
     "metadata": {},
     "output_type": "display_data"
    },
    {
     "name": "stdout",
     "output_type": "stream",
     "text": [
      "Epoch [7], train_loss: 3.3092, val_loss: 3.5231, val_acc: 0.3597\n"
     ]
    },
    {
     "data": {
      "application/vnd.jupyter.widget-view+json": {
       "model_id": "1eba355dab334c7dbaf061ef8a4ee3b4",
       "version_major": 2,
       "version_minor": 0
      },
      "text/plain": [
       "  0%|          | 0/334 [00:00<?, ?it/s]"
      ]
     },
     "metadata": {},
     "output_type": "display_data"
    },
    {
     "name": "stdout",
     "output_type": "stream",
     "text": [
      "Epoch [8], train_loss: 3.1817, val_loss: 3.4779, val_acc: 0.4076\n"
     ]
    },
    {
     "data": {
      "application/vnd.jupyter.widget-view+json": {
       "model_id": "4137784ba2b2498482bc72f82a074926",
       "version_major": 2,
       "version_minor": 0
      },
      "text/plain": [
       "  0%|          | 0/334 [00:00<?, ?it/s]"
      ]
     },
     "metadata": {},
     "output_type": "display_data"
    },
    {
     "name": "stdout",
     "output_type": "stream",
     "text": [
      "Epoch [9], train_loss: 3.0645, val_loss: 3.3370, val_acc: 0.4326\n"
     ]
    },
    {
     "data": {
      "application/vnd.jupyter.widget-view+json": {
       "model_id": "ace43d42960c4dcc81dd7600dc741be4",
       "version_major": 2,
       "version_minor": 0
      },
      "text/plain": [
       "  0%|          | 0/334 [00:00<?, ?it/s]"
      ]
     },
     "metadata": {},
     "output_type": "display_data"
    },
    {
     "name": "stdout",
     "output_type": "stream",
     "text": [
      "Epoch [10], train_loss: 2.9605, val_loss: 3.3863, val_acc: 0.4045\n"
     ]
    },
    {
     "data": {
      "application/vnd.jupyter.widget-view+json": {
       "model_id": "07d1ed20930f4b0eb5affdedf1d5ee59",
       "version_major": 2,
       "version_minor": 0
      },
      "text/plain": [
       "  0%|          | 0/334 [00:00<?, ?it/s]"
      ]
     },
     "metadata": {},
     "output_type": "display_data"
    },
    {
     "name": "stdout",
     "output_type": "stream",
     "text": [
      "Epoch [11], train_loss: 2.8576, val_loss: 3.1452, val_acc: 0.4476\n"
     ]
    },
    {
     "data": {
      "application/vnd.jupyter.widget-view+json": {
       "model_id": "b4c9e1d365664b50943de233ba4926cf",
       "version_major": 2,
       "version_minor": 0
      },
      "text/plain": [
       "  0%|          | 0/334 [00:00<?, ?it/s]"
      ]
     },
     "metadata": {},
     "output_type": "display_data"
    },
    {
     "name": "stdout",
     "output_type": "stream",
     "text": [
      "Epoch [12], train_loss: 2.7556, val_loss: 3.1400, val_acc: 0.4764\n"
     ]
    },
    {
     "data": {
      "application/vnd.jupyter.widget-view+json": {
       "model_id": "c1cd8f07e30c49568fd394a7563f1e2d",
       "version_major": 2,
       "version_minor": 0
      },
      "text/plain": [
       "  0%|          | 0/334 [00:00<?, ?it/s]"
      ]
     },
     "metadata": {},
     "output_type": "display_data"
    },
    {
     "name": "stdout",
     "output_type": "stream",
     "text": [
      "Epoch [13], train_loss: 2.6703, val_loss: 3.0496, val_acc: 0.4726\n"
     ]
    },
    {
     "data": {
      "application/vnd.jupyter.widget-view+json": {
       "model_id": "02f4289055a64ddbb183831773e9484f",
       "version_major": 2,
       "version_minor": 0
      },
      "text/plain": [
       "  0%|          | 0/334 [00:00<?, ?it/s]"
      ]
     },
     "metadata": {},
     "output_type": "display_data"
    },
    {
     "name": "stdout",
     "output_type": "stream",
     "text": [
      "Epoch [14], train_loss: 2.5747, val_loss: 3.0365, val_acc: 0.4569\n"
     ]
    },
    {
     "data": {
      "application/vnd.jupyter.widget-view+json": {
       "model_id": "c2a73cf393044fb1a61251305b5f9fed",
       "version_major": 2,
       "version_minor": 0
      },
      "text/plain": [
       "  0%|          | 0/334 [00:00<?, ?it/s]"
      ]
     },
     "metadata": {},
     "output_type": "display_data"
    },
    {
     "name": "stdout",
     "output_type": "stream",
     "text": [
      "Epoch [15], train_loss: 2.4708, val_loss: 3.2646, val_acc: 0.4545\n"
     ]
    },
    {
     "data": {
      "application/vnd.jupyter.widget-view+json": {
       "model_id": "e523133f190e463ebe49185f705e1bf2",
       "version_major": 2,
       "version_minor": 0
      },
      "text/plain": [
       "  0%|          | 0/334 [00:00<?, ?it/s]"
      ]
     },
     "metadata": {},
     "output_type": "display_data"
    },
    {
     "name": "stdout",
     "output_type": "stream",
     "text": [
      "Epoch [16], train_loss: 2.4151, val_loss: 3.0858, val_acc: 0.4826\n"
     ]
    },
    {
     "data": {
      "application/vnd.jupyter.widget-view+json": {
       "model_id": "920821622e56495d85ae24869a84c481",
       "version_major": 2,
       "version_minor": 0
      },
      "text/plain": [
       "  0%|          | 0/334 [00:00<?, ?it/s]"
      ]
     },
     "metadata": {},
     "output_type": "display_data"
    },
    {
     "name": "stdout",
     "output_type": "stream",
     "text": [
      "Epoch [17], train_loss: 2.3539, val_loss: 3.0687, val_acc: 0.4670\n"
     ]
    },
    {
     "data": {
      "application/vnd.jupyter.widget-view+json": {
       "model_id": "bc9b87bc73ba4ec6886978b88c4f78d6",
       "version_major": 2,
       "version_minor": 0
      },
      "text/plain": [
       "  0%|          | 0/334 [00:00<?, ?it/s]"
      ]
     },
     "metadata": {},
     "output_type": "display_data"
    },
    {
     "name": "stdout",
     "output_type": "stream",
     "text": [
      "Epoch [18], train_loss: 2.2659, val_loss: 2.9950, val_acc: 0.5045\n"
     ]
    },
    {
     "data": {
      "application/vnd.jupyter.widget-view+json": {
       "model_id": "ff15e5c2d0974c4881b543d9e60f796f",
       "version_major": 2,
       "version_minor": 0
      },
      "text/plain": [
       "  0%|          | 0/334 [00:00<?, ?it/s]"
      ]
     },
     "metadata": {},
     "output_type": "display_data"
    },
    {
     "name": "stdout",
     "output_type": "stream",
     "text": [
      "Epoch [19], train_loss: 2.1914, val_loss: 3.0674, val_acc: 0.4733\n"
     ]
    },
    {
     "data": {
      "application/vnd.jupyter.widget-view+json": {
       "model_id": "e4de4a547188437598f5c87489cb5c8c",
       "version_major": 2,
       "version_minor": 0
      },
      "text/plain": [
       "  0%|          | 0/334 [00:00<?, ?it/s]"
      ]
     },
     "metadata": {},
     "output_type": "display_data"
    },
    {
     "name": "stdout",
     "output_type": "stream",
     "text": [
      "Epoch [20], train_loss: 2.1553, val_loss: 3.1107, val_acc: 0.4771\n"
     ]
    },
    {
     "data": {
      "application/vnd.jupyter.widget-view+json": {
       "model_id": "ebffd8050c3d4ecfa1fbbe92b23311dd",
       "version_major": 2,
       "version_minor": 0
      },
      "text/plain": [
       "  0%|          | 0/334 [00:00<?, ?it/s]"
      ]
     },
     "metadata": {},
     "output_type": "display_data"
    },
    {
     "name": "stdout",
     "output_type": "stream",
     "text": [
      "Epoch [21], train_loss: 2.0928, val_loss: 2.9320, val_acc: 0.5351\n"
     ]
    },
    {
     "data": {
      "application/vnd.jupyter.widget-view+json": {
       "model_id": "9e8d6ae920f14fa5b41c9a44bc52c30c",
       "version_major": 2,
       "version_minor": 0
      },
      "text/plain": [
       "  0%|          | 0/334 [00:00<?, ?it/s]"
      ]
     },
     "metadata": {},
     "output_type": "display_data"
    },
    {
     "name": "stdout",
     "output_type": "stream",
     "text": [
      "Epoch [22], train_loss: 2.0091, val_loss: 2.9467, val_acc: 0.5288\n"
     ]
    },
    {
     "data": {
      "application/vnd.jupyter.widget-view+json": {
       "model_id": "d9d44c9471754b3c873a35749be02db3",
       "version_major": 2,
       "version_minor": 0
      },
      "text/plain": [
       "  0%|          | 0/334 [00:00<?, ?it/s]"
      ]
     },
     "metadata": {},
     "output_type": "display_data"
    },
    {
     "name": "stdout",
     "output_type": "stream",
     "text": [
      "Epoch [23], train_loss: 1.9743, val_loss: 2.8457, val_acc: 0.5389\n"
     ]
    },
    {
     "data": {
      "application/vnd.jupyter.widget-view+json": {
       "model_id": "d08ae6655fe94738a46390163d2ed8ce",
       "version_major": 2,
       "version_minor": 0
      },
      "text/plain": [
       "  0%|          | 0/334 [00:00<?, ?it/s]"
      ]
     },
     "metadata": {},
     "output_type": "display_data"
    },
    {
     "name": "stdout",
     "output_type": "stream",
     "text": [
      "Epoch [24], train_loss: 1.9131, val_loss: 2.8077, val_acc: 0.5563\n"
     ]
    },
    {
     "data": {
      "application/vnd.jupyter.widget-view+json": {
       "model_id": "3bc7059ccb0e468fbe27e82481d05a67",
       "version_major": 2,
       "version_minor": 0
      },
      "text/plain": [
       "  0%|          | 0/334 [00:00<?, ?it/s]"
      ]
     },
     "metadata": {},
     "output_type": "display_data"
    },
    {
     "name": "stdout",
     "output_type": "stream",
     "text": [
      "Epoch [25], train_loss: 1.8790, val_loss: 2.8335, val_acc: 0.5351\n"
     ]
    },
    {
     "data": {
      "application/vnd.jupyter.widget-view+json": {
       "model_id": "e333ad7cc8f241c482b72ee1b30e0c4f",
       "version_major": 2,
       "version_minor": 0
      },
      "text/plain": [
       "  0%|          | 0/334 [00:00<?, ?it/s]"
      ]
     },
     "metadata": {},
     "output_type": "display_data"
    },
    {
     "name": "stdout",
     "output_type": "stream",
     "text": [
      "Epoch [26], train_loss: 1.8285, val_loss: 2.8233, val_acc: 0.5389\n"
     ]
    },
    {
     "data": {
      "application/vnd.jupyter.widget-view+json": {
       "model_id": "3b3a95c35e484dcbbc7fea8e43d20d68",
       "version_major": 2,
       "version_minor": 0
      },
      "text/plain": [
       "  0%|          | 0/334 [00:00<?, ?it/s]"
      ]
     },
     "metadata": {},
     "output_type": "display_data"
    },
    {
     "name": "stdout",
     "output_type": "stream",
     "text": [
      "Epoch [27], train_loss: 1.7243, val_loss: 2.9385, val_acc: 0.5382\n"
     ]
    },
    {
     "data": {
      "application/vnd.jupyter.widget-view+json": {
       "model_id": "1c5d97e680bb4cb385a791b1a89a4f0a",
       "version_major": 2,
       "version_minor": 0
      },
      "text/plain": [
       "  0%|          | 0/334 [00:00<?, ?it/s]"
      ]
     },
     "metadata": {},
     "output_type": "display_data"
    },
    {
     "name": "stdout",
     "output_type": "stream",
     "text": [
      "Epoch [28], train_loss: 1.7336, val_loss: 2.8578, val_acc: 0.5569\n"
     ]
    },
    {
     "data": {
      "application/vnd.jupyter.widget-view+json": {
       "model_id": "ceb3fbc6483b485782d09bc8241e3bdb",
       "version_major": 2,
       "version_minor": 0
      },
      "text/plain": [
       "  0%|          | 0/334 [00:00<?, ?it/s]"
      ]
     },
     "metadata": {},
     "output_type": "display_data"
    },
    {
     "name": "stdout",
     "output_type": "stream",
     "text": [
      "Epoch [29], train_loss: 1.6545, val_loss: 2.9931, val_acc: 0.5264\n"
     ]
    },
    {
     "data": {
      "application/vnd.jupyter.widget-view+json": {
       "model_id": "f3cf02e61f0340c9bc5580d945c722e6",
       "version_major": 2,
       "version_minor": 0
      },
      "text/plain": [
       "  0%|          | 0/334 [00:00<?, ?it/s]"
      ]
     },
     "metadata": {},
     "output_type": "display_data"
    },
    {
     "name": "stdout",
     "output_type": "stream",
     "text": [
      "Epoch [30], train_loss: 1.6137, val_loss: 2.6508, val_acc: 0.5819\n"
     ]
    },
    {
     "data": {
      "application/vnd.jupyter.widget-view+json": {
       "model_id": "418afae647d5406496928c0c725a435d",
       "version_major": 2,
       "version_minor": 0
      },
      "text/plain": [
       "  0%|          | 0/334 [00:00<?, ?it/s]"
      ]
     },
     "metadata": {},
     "output_type": "display_data"
    },
    {
     "name": "stdout",
     "output_type": "stream",
     "text": [
      "Epoch [31], train_loss: 1.5784, val_loss: 2.6916, val_acc: 0.5976\n"
     ]
    },
    {
     "data": {
      "application/vnd.jupyter.widget-view+json": {
       "model_id": "aa99d2921deb4a10bccc0cedb5120b1d",
       "version_major": 2,
       "version_minor": 0
      },
      "text/plain": [
       "  0%|          | 0/334 [00:00<?, ?it/s]"
      ]
     },
     "metadata": {},
     "output_type": "display_data"
    },
    {
     "name": "stdout",
     "output_type": "stream",
     "text": [
      "Epoch [32], train_loss: 1.5171, val_loss: 2.6744, val_acc: 0.6007\n"
     ]
    },
    {
     "data": {
      "application/vnd.jupyter.widget-view+json": {
       "model_id": "de02b23b62bb43f2a784e9912e01b51b",
       "version_major": 2,
       "version_minor": 0
      },
      "text/plain": [
       "  0%|          | 0/334 [00:00<?, ?it/s]"
      ]
     },
     "metadata": {},
     "output_type": "display_data"
    },
    {
     "name": "stdout",
     "output_type": "stream",
     "text": [
      "Epoch [33], train_loss: 1.4834, val_loss: 2.9805, val_acc: 0.5694\n"
     ]
    },
    {
     "data": {
      "application/vnd.jupyter.widget-view+json": {
       "model_id": "0129ac60ed354fc0b9ca9df9d5086dad",
       "version_major": 2,
       "version_minor": 0
      },
      "text/plain": [
       "  0%|          | 0/334 [00:00<?, ?it/s]"
      ]
     },
     "metadata": {},
     "output_type": "display_data"
    },
    {
     "name": "stdout",
     "output_type": "stream",
     "text": [
      "Epoch [34], train_loss: 1.4249, val_loss: 2.9482, val_acc: 0.5663\n"
     ]
    },
    {
     "data": {
      "application/vnd.jupyter.widget-view+json": {
       "model_id": "73e2e42491af44dc8a24659b074ca877",
       "version_major": 2,
       "version_minor": 0
      },
      "text/plain": [
       "  0%|          | 0/334 [00:00<?, ?it/s]"
      ]
     },
     "metadata": {},
     "output_type": "display_data"
    },
    {
     "name": "stdout",
     "output_type": "stream",
     "text": [
      "Epoch [35], train_loss: 1.4058, val_loss: 2.7303, val_acc: 0.5819\n"
     ]
    },
    {
     "data": {
      "application/vnd.jupyter.widget-view+json": {
       "model_id": "582dc115993a45f0ae2a8ad2a2c07f8d",
       "version_major": 2,
       "version_minor": 0
      },
      "text/plain": [
       "  0%|          | 0/334 [00:00<?, ?it/s]"
      ]
     },
     "metadata": {},
     "output_type": "display_data"
    },
    {
     "name": "stdout",
     "output_type": "stream",
     "text": [
      "Epoch [36], train_loss: 1.3300, val_loss: 2.7255, val_acc: 0.5826\n"
     ]
    },
    {
     "data": {
      "application/vnd.jupyter.widget-view+json": {
       "model_id": "c47cdba898bc49afb0be839a6b4a8086",
       "version_major": 2,
       "version_minor": 0
      },
      "text/plain": [
       "  0%|          | 0/334 [00:00<?, ?it/s]"
      ]
     },
     "metadata": {},
     "output_type": "display_data"
    },
    {
     "name": "stdout",
     "output_type": "stream",
     "text": [
      "Epoch [37], train_loss: 1.3190, val_loss: 2.7577, val_acc: 0.5788\n"
     ]
    },
    {
     "data": {
      "application/vnd.jupyter.widget-view+json": {
       "model_id": "153df7d40e4a4c4394b4662c42588901",
       "version_major": 2,
       "version_minor": 0
      },
      "text/plain": [
       "  0%|          | 0/334 [00:00<?, ?it/s]"
      ]
     },
     "metadata": {},
     "output_type": "display_data"
    },
    {
     "name": "stdout",
     "output_type": "stream",
     "text": [
      "Epoch [38], train_loss: 1.2642, val_loss: 2.8431, val_acc: 0.5569\n"
     ]
    },
    {
     "data": {
      "application/vnd.jupyter.widget-view+json": {
       "model_id": "15d329ee38b84e48b4b06b66a2a67809",
       "version_major": 2,
       "version_minor": 0
      },
      "text/plain": [
       "  0%|          | 0/334 [00:00<?, ?it/s]"
      ]
     },
     "metadata": {},
     "output_type": "display_data"
    },
    {
     "name": "stdout",
     "output_type": "stream",
     "text": [
      "Epoch [39], train_loss: 1.2281, val_loss: 2.8646, val_acc: 0.5569\n"
     ]
    },
    {
     "data": {
      "application/vnd.jupyter.widget-view+json": {
       "model_id": "16bc3796ba0b40fb9d66fe550d88fa26",
       "version_major": 2,
       "version_minor": 0
      },
      "text/plain": [
       "  0%|          | 0/334 [00:00<?, ?it/s]"
      ]
     },
     "metadata": {},
     "output_type": "display_data"
    },
    {
     "name": "stdout",
     "output_type": "stream",
     "text": [
      "Epoch [40], train_loss: 1.2130, val_loss: 2.8495, val_acc: 0.5858\n"
     ]
    },
    {
     "data": {
      "application/vnd.jupyter.widget-view+json": {
       "model_id": "0c6099865e9b4906aebcbf36276ca80c",
       "version_major": 2,
       "version_minor": 0
      },
      "text/plain": [
       "  0%|          | 0/334 [00:00<?, ?it/s]"
      ]
     },
     "metadata": {},
     "output_type": "display_data"
    },
    {
     "name": "stdout",
     "output_type": "stream",
     "text": [
      "Epoch [41], train_loss: 1.1494, val_loss: 2.7654, val_acc: 0.5976\n"
     ]
    },
    {
     "data": {
      "application/vnd.jupyter.widget-view+json": {
       "model_id": "61e90a94728c49488d2395b269ed72be",
       "version_major": 2,
       "version_minor": 0
      },
      "text/plain": [
       "  0%|          | 0/334 [00:00<?, ?it/s]"
      ]
     },
     "metadata": {},
     "output_type": "display_data"
    },
    {
     "name": "stdout",
     "output_type": "stream",
     "text": [
      "Epoch [42], train_loss: 1.1291, val_loss: 2.6940, val_acc: 0.6226\n"
     ]
    },
    {
     "data": {
      "application/vnd.jupyter.widget-view+json": {
       "model_id": "dd1d65181ed14af882778adb3b081f75",
       "version_major": 2,
       "version_minor": 0
      },
      "text/plain": [
       "  0%|          | 0/334 [00:00<?, ?it/s]"
      ]
     },
     "metadata": {},
     "output_type": "display_data"
    },
    {
     "name": "stdout",
     "output_type": "stream",
     "text": [
      "Epoch [43], train_loss: 1.0931, val_loss: 2.8511, val_acc: 0.5944\n"
     ]
    },
    {
     "data": {
      "application/vnd.jupyter.widget-view+json": {
       "model_id": "f283b140c20541dabcc2116e0a5792d6",
       "version_major": 2,
       "version_minor": 0
      },
      "text/plain": [
       "  0%|          | 0/334 [00:00<?, ?it/s]"
      ]
     },
     "metadata": {},
     "output_type": "display_data"
    },
    {
     "name": "stdout",
     "output_type": "stream",
     "text": [
      "Epoch [44], train_loss: 1.0664, val_loss: 2.7750, val_acc: 0.6226\n"
     ]
    },
    {
     "data": {
      "application/vnd.jupyter.widget-view+json": {
       "model_id": "b5dc8626fc1148d18d93d8a84b7241c4",
       "version_major": 2,
       "version_minor": 0
      },
      "text/plain": [
       "  0%|          | 0/334 [00:00<?, ?it/s]"
      ]
     },
     "metadata": {},
     "output_type": "display_data"
    },
    {
     "name": "stdout",
     "output_type": "stream",
     "text": [
      "Epoch [45], train_loss: 1.0220, val_loss: 2.8061, val_acc: 0.5913\n"
     ]
    },
    {
     "data": {
      "application/vnd.jupyter.widget-view+json": {
       "model_id": "aef50ae977a84f8685f4d46bb06d1a7c",
       "version_major": 2,
       "version_minor": 0
      },
      "text/plain": [
       "  0%|          | 0/334 [00:00<?, ?it/s]"
      ]
     },
     "metadata": {},
     "output_type": "display_data"
    },
    {
     "name": "stdout",
     "output_type": "stream",
     "text": [
      "Epoch [46], train_loss: 0.9887, val_loss: 2.7541, val_acc: 0.6108\n"
     ]
    },
    {
     "data": {
      "application/vnd.jupyter.widget-view+json": {
       "model_id": "72c09f889f3640859c76957f84060309",
       "version_major": 2,
       "version_minor": 0
      },
      "text/plain": [
       "  0%|          | 0/334 [00:00<?, ?it/s]"
      ]
     },
     "metadata": {},
     "output_type": "display_data"
    },
    {
     "name": "stdout",
     "output_type": "stream",
     "text": [
      "Epoch [47], train_loss: 0.9792, val_loss: 2.8887, val_acc: 0.5851\n"
     ]
    },
    {
     "data": {
      "application/vnd.jupyter.widget-view+json": {
       "model_id": "12ba27c578794c929c7fc02b936ea9e1",
       "version_major": 2,
       "version_minor": 0
      },
      "text/plain": [
       "  0%|          | 0/334 [00:00<?, ?it/s]"
      ]
     },
     "metadata": {},
     "output_type": "display_data"
    },
    {
     "name": "stdout",
     "output_type": "stream",
     "text": [
      "Epoch [48], train_loss: 0.9706, val_loss: 2.8030, val_acc: 0.6132\n"
     ]
    },
    {
     "data": {
      "application/vnd.jupyter.widget-view+json": {
       "model_id": "6a4141b83edd4e8eb472a7087ce76ffc",
       "version_major": 2,
       "version_minor": 0
      },
      "text/plain": [
       "  0%|          | 0/334 [00:00<?, ?it/s]"
      ]
     },
     "metadata": {},
     "output_type": "display_data"
    },
    {
     "name": "stdout",
     "output_type": "stream",
     "text": [
      "Epoch [49], train_loss: 0.9332, val_loss: 2.9605, val_acc: 0.5920\n"
     ]
    }
   ],
   "source": [
    "opt_func = torch.optim.Adadelta\n",
    "lr = 0.1\n",
    "do_history+= fit(num_epochs, lr, do_model, train_dl, val_dl, opt_func)"
   ]
  },
  {
   "cell_type": "code",
   "execution_count": 319,
   "metadata": {},
   "outputs": [
    {
     "data": {
      "application/vnd.jupyter.widget-view+json": {
       "model_id": "0f438704765a4cf2851cb12281002fd8",
       "version_major": 2,
       "version_minor": 0
      },
      "text/plain": [
       "  0%|          | 0/334 [00:00<?, ?it/s]"
      ]
     },
     "metadata": {},
     "output_type": "display_data"
    },
    {
     "name": "stdout",
     "output_type": "stream",
     "text": [
      "Epoch [0], train_loss: 4.8640, val_loss: 4.6040, val_acc: 0.0906\n"
     ]
    },
    {
     "data": {
      "application/vnd.jupyter.widget-view+json": {
       "model_id": "95c3d788bf794babac536ce97a068570",
       "version_major": 2,
       "version_minor": 0
      },
      "text/plain": [
       "  0%|          | 0/334 [00:00<?, ?it/s]"
      ]
     },
     "metadata": {},
     "output_type": "display_data"
    },
    {
     "name": "stdout",
     "output_type": "stream",
     "text": [
      "Epoch [1], train_loss: 4.5031, val_loss: 4.3287, val_acc: 0.1674\n"
     ]
    },
    {
     "data": {
      "application/vnd.jupyter.widget-view+json": {
       "model_id": "6af4d7263ce64ce1a9eeb2fdda3a29ac",
       "version_major": 2,
       "version_minor": 0
      },
      "text/plain": [
       "  0%|          | 0/334 [00:00<?, ?it/s]"
      ]
     },
     "metadata": {},
     "output_type": "display_data"
    },
    {
     "name": "stdout",
     "output_type": "stream",
     "text": [
      "Epoch [2], train_loss: 4.1797, val_loss: 4.0585, val_acc: 0.2410\n"
     ]
    },
    {
     "data": {
      "application/vnd.jupyter.widget-view+json": {
       "model_id": "6b7f509ce27b4d4fb01a9ab1f7152241",
       "version_major": 2,
       "version_minor": 0
      },
      "text/plain": [
       "  0%|          | 0/334 [00:00<?, ?it/s]"
      ]
     },
     "metadata": {},
     "output_type": "display_data"
    },
    {
     "name": "stdout",
     "output_type": "stream",
     "text": [
      "Epoch [3], train_loss: 3.9109, val_loss: 3.8555, val_acc: 0.2583\n"
     ]
    },
    {
     "data": {
      "application/vnd.jupyter.widget-view+json": {
       "model_id": "cb2634abb77249029a36ef627d5386bc",
       "version_major": 2,
       "version_minor": 0
      },
      "text/plain": [
       "  0%|          | 0/334 [00:00<?, ?it/s]"
      ]
     },
     "metadata": {},
     "output_type": "display_data"
    },
    {
     "name": "stdout",
     "output_type": "stream",
     "text": [
      "Epoch [4], train_loss: 3.6774, val_loss: 3.6797, val_acc: 0.3521\n"
     ]
    },
    {
     "data": {
      "application/vnd.jupyter.widget-view+json": {
       "model_id": "b3364d60c232431b860f2963b32bc1cc",
       "version_major": 2,
       "version_minor": 0
      },
      "text/plain": [
       "  0%|          | 0/334 [00:00<?, ?it/s]"
      ]
     },
     "metadata": {},
     "output_type": "display_data"
    },
    {
     "name": "stdout",
     "output_type": "stream",
     "text": [
      "Epoch [5], train_loss: 3.4965, val_loss: 3.5270, val_acc: 0.4170\n"
     ]
    },
    {
     "data": {
      "application/vnd.jupyter.widget-view+json": {
       "model_id": "6adad504dcac497ea52d608d7ca33492",
       "version_major": 2,
       "version_minor": 0
      },
      "text/plain": [
       "  0%|          | 0/334 [00:00<?, ?it/s]"
      ]
     },
     "metadata": {},
     "output_type": "display_data"
    },
    {
     "name": "stdout",
     "output_type": "stream",
     "text": [
      "Epoch [6], train_loss: 3.3338, val_loss: 3.5719, val_acc: 0.3663\n"
     ]
    },
    {
     "data": {
      "application/vnd.jupyter.widget-view+json": {
       "model_id": "d0111839a20a4f2d8c8e03bd46112664",
       "version_major": 2,
       "version_minor": 0
      },
      "text/plain": [
       "  0%|          | 0/334 [00:00<?, ?it/s]"
      ]
     },
     "metadata": {},
     "output_type": "display_data"
    },
    {
     "name": "stdout",
     "output_type": "stream",
     "text": [
      "Epoch [7], train_loss: 3.1685, val_loss: 3.3173, val_acc: 0.4288\n"
     ]
    },
    {
     "data": {
      "application/vnd.jupyter.widget-view+json": {
       "model_id": "45de9af14a074190b7a4adc4aebb1dfc",
       "version_major": 2,
       "version_minor": 0
      },
      "text/plain": [
       "  0%|          | 0/334 [00:00<?, ?it/s]"
      ]
     },
     "metadata": {},
     "output_type": "display_data"
    },
    {
     "name": "stdout",
     "output_type": "stream",
     "text": [
      "Epoch [8], train_loss: 3.0445, val_loss: 3.3981, val_acc: 0.4358\n"
     ]
    },
    {
     "data": {
      "application/vnd.jupyter.widget-view+json": {
       "model_id": "040f85ef46c44f64b4c119fbcd23edfb",
       "version_major": 2,
       "version_minor": 0
      },
      "text/plain": [
       "  0%|          | 0/334 [00:00<?, ?it/s]"
      ]
     },
     "metadata": {},
     "output_type": "display_data"
    },
    {
     "name": "stdout",
     "output_type": "stream",
     "text": [
      "Epoch [9], train_loss: 2.9122, val_loss: 3.8872, val_acc: 0.3458\n"
     ]
    },
    {
     "data": {
      "application/vnd.jupyter.widget-view+json": {
       "model_id": "9c283c76b2c04fb8ba9a7d0ea7491b00",
       "version_major": 2,
       "version_minor": 0
      },
      "text/plain": [
       "  0%|          | 0/334 [00:00<?, ?it/s]"
      ]
     },
     "metadata": {},
     "output_type": "display_data"
    },
    {
     "name": "stdout",
     "output_type": "stream",
     "text": [
      "Epoch [10], train_loss: 2.8055, val_loss: 3.1880, val_acc: 0.4420\n"
     ]
    },
    {
     "data": {
      "application/vnd.jupyter.widget-view+json": {
       "model_id": "1aebf4e35b1a4442a4436acae5332375",
       "version_major": 2,
       "version_minor": 0
      },
      "text/plain": [
       "  0%|          | 0/334 [00:00<?, ?it/s]"
      ]
     },
     "metadata": {},
     "output_type": "display_data"
    },
    {
     "name": "stdout",
     "output_type": "stream",
     "text": [
      "Epoch [11], train_loss: 2.7232, val_loss: 3.3467, val_acc: 0.4288\n"
     ]
    },
    {
     "data": {
      "application/vnd.jupyter.widget-view+json": {
       "model_id": "3e0480b21fb445b79b882d4dc32b8b3d",
       "version_major": 2,
       "version_minor": 0
      },
      "text/plain": [
       "  0%|          | 0/334 [00:00<?, ?it/s]"
      ]
     },
     "metadata": {},
     "output_type": "display_data"
    },
    {
     "name": "stdout",
     "output_type": "stream",
     "text": [
      "Epoch [12], train_loss: 2.6488, val_loss: 3.3861, val_acc: 0.4208\n"
     ]
    },
    {
     "data": {
      "application/vnd.jupyter.widget-view+json": {
       "model_id": "39ca2e5b12f24644b1dabb765603e554",
       "version_major": 2,
       "version_minor": 0
      },
      "text/plain": [
       "  0%|          | 0/334 [00:00<?, ?it/s]"
      ]
     },
     "metadata": {},
     "output_type": "display_data"
    },
    {
     "name": "stdout",
     "output_type": "stream",
     "text": [
      "Epoch [13], train_loss: 2.5505, val_loss: 3.1105, val_acc: 0.4663\n"
     ]
    },
    {
     "data": {
      "application/vnd.jupyter.widget-view+json": {
       "model_id": "938675be51134093acae0b2f9ef966df",
       "version_major": 2,
       "version_minor": 0
      },
      "text/plain": [
       "  0%|          | 0/334 [00:00<?, ?it/s]"
      ]
     },
     "metadata": {},
     "output_type": "display_data"
    },
    {
     "name": "stdout",
     "output_type": "stream",
     "text": [
      "Epoch [14], train_loss: 2.4817, val_loss: 3.0594, val_acc: 0.4944\n"
     ]
    },
    {
     "data": {
      "application/vnd.jupyter.widget-view+json": {
       "model_id": "e0ab09ee806b4ca588f90e88899e4fb0",
       "version_major": 2,
       "version_minor": 0
      },
      "text/plain": [
       "  0%|          | 0/334 [00:00<?, ?it/s]"
      ]
     },
     "metadata": {},
     "output_type": "display_data"
    },
    {
     "name": "stdout",
     "output_type": "stream",
     "text": [
      "Epoch [15], train_loss: 2.4052, val_loss: 3.0028, val_acc: 0.5132\n"
     ]
    },
    {
     "data": {
      "application/vnd.jupyter.widget-view+json": {
       "model_id": "9bf25cd252414f3eb5cac6b1f6823293",
       "version_major": 2,
       "version_minor": 0
      },
      "text/plain": [
       "  0%|          | 0/334 [00:00<?, ?it/s]"
      ]
     },
     "metadata": {},
     "output_type": "display_data"
    },
    {
     "name": "stdout",
     "output_type": "stream",
     "text": [
      "Epoch [16], train_loss: 2.3351, val_loss: 3.0496, val_acc: 0.4976\n"
     ]
    },
    {
     "data": {
      "application/vnd.jupyter.widget-view+json": {
       "model_id": "a7f84870ac8b48c482800f9a79b76600",
       "version_major": 2,
       "version_minor": 0
      },
      "text/plain": [
       "  0%|          | 0/334 [00:00<?, ?it/s]"
      ]
     },
     "metadata": {},
     "output_type": "display_data"
    },
    {
     "name": "stdout",
     "output_type": "stream",
     "text": [
      "Epoch [17], train_loss: 2.2660, val_loss: 3.2916, val_acc: 0.4781\n"
     ]
    },
    {
     "data": {
      "application/vnd.jupyter.widget-view+json": {
       "model_id": "d47167eb0bf4458482cf9d0c2fa97764",
       "version_major": 2,
       "version_minor": 0
      },
      "text/plain": [
       "  0%|          | 0/334 [00:00<?, ?it/s]"
      ]
     },
     "metadata": {},
     "output_type": "display_data"
    },
    {
     "name": "stdout",
     "output_type": "stream",
     "text": [
      "Epoch [18], train_loss: 2.2286, val_loss: 2.9210, val_acc: 0.5382\n"
     ]
    },
    {
     "data": {
      "application/vnd.jupyter.widget-view+json": {
       "model_id": "00d922b19e214a208f2b6a2943fd3972",
       "version_major": 2,
       "version_minor": 0
      },
      "text/plain": [
       "  0%|          | 0/334 [00:00<?, ?it/s]"
      ]
     },
     "metadata": {},
     "output_type": "display_data"
    },
    {
     "name": "stdout",
     "output_type": "stream",
     "text": [
      "Epoch [19], train_loss: 2.1439, val_loss: 3.0677, val_acc: 0.5233\n"
     ]
    },
    {
     "data": {
      "application/vnd.jupyter.widget-view+json": {
       "model_id": "f9cdaea96a4446798254e33e7f6a3818",
       "version_major": 2,
       "version_minor": 0
      },
      "text/plain": [
       "  0%|          | 0/334 [00:00<?, ?it/s]"
      ]
     },
     "metadata": {},
     "output_type": "display_data"
    },
    {
     "name": "stdout",
     "output_type": "stream",
     "text": [
      "Epoch [20], train_loss: 2.1041, val_loss: 2.8755, val_acc: 0.5351\n"
     ]
    },
    {
     "data": {
      "application/vnd.jupyter.widget-view+json": {
       "model_id": "b20380e51c984f15a3085526bfd47445",
       "version_major": 2,
       "version_minor": 0
      },
      "text/plain": [
       "  0%|          | 0/334 [00:00<?, ?it/s]"
      ]
     },
     "metadata": {},
     "output_type": "display_data"
    },
    {
     "name": "stdout",
     "output_type": "stream",
     "text": [
      "Epoch [21], train_loss: 2.0522, val_loss: 2.9087, val_acc: 0.5076\n"
     ]
    },
    {
     "data": {
      "application/vnd.jupyter.widget-view+json": {
       "model_id": "9f0ebb2a66d948f09f05eb08c9e703a1",
       "version_major": 2,
       "version_minor": 0
      },
      "text/plain": [
       "  0%|          | 0/334 [00:00<?, ?it/s]"
      ]
     },
     "metadata": {},
     "output_type": "display_data"
    },
    {
     "name": "stdout",
     "output_type": "stream",
     "text": [
      "Epoch [22], train_loss: 1.9796, val_loss: 2.9033, val_acc: 0.5326\n"
     ]
    },
    {
     "data": {
      "application/vnd.jupyter.widget-view+json": {
       "model_id": "977beda5a02e4c02a84e780c1d3cbc4a",
       "version_major": 2,
       "version_minor": 0
      },
      "text/plain": [
       "  0%|          | 0/334 [00:00<?, ?it/s]"
      ]
     },
     "metadata": {},
     "output_type": "display_data"
    },
    {
     "name": "stdout",
     "output_type": "stream",
     "text": [
      "Epoch [23], train_loss: 1.9656, val_loss: 3.0076, val_acc: 0.5163\n"
     ]
    },
    {
     "data": {
      "application/vnd.jupyter.widget-view+json": {
       "model_id": "2182ac3f9bb342f8a2c6244c4ce2b609",
       "version_major": 2,
       "version_minor": 0
      },
      "text/plain": [
       "  0%|          | 0/334 [00:00<?, ?it/s]"
      ]
     },
     "metadata": {},
     "output_type": "display_data"
    },
    {
     "name": "stdout",
     "output_type": "stream",
     "text": [
      "Epoch [24], train_loss: 1.9425, val_loss: 3.0451, val_acc: 0.5007\n"
     ]
    },
    {
     "data": {
      "application/vnd.jupyter.widget-view+json": {
       "model_id": "0c62dfdcec664c55b79575ec0371576e",
       "version_major": 2,
       "version_minor": 0
      },
      "text/plain": [
       "  0%|          | 0/334 [00:00<?, ?it/s]"
      ]
     },
     "metadata": {},
     "output_type": "display_data"
    },
    {
     "name": "stdout",
     "output_type": "stream",
     "text": [
      "Epoch [25], train_loss: 1.9119, val_loss: 2.9573, val_acc: 0.5170\n"
     ]
    },
    {
     "data": {
      "application/vnd.jupyter.widget-view+json": {
       "model_id": "55090381e2a5444d8b734531e47be66a",
       "version_major": 2,
       "version_minor": 0
      },
      "text/plain": [
       "  0%|          | 0/334 [00:00<?, ?it/s]"
      ]
     },
     "metadata": {},
     "output_type": "display_data"
    },
    {
     "name": "stdout",
     "output_type": "stream",
     "text": [
      "Epoch [26], train_loss: 1.8218, val_loss: 2.7627, val_acc: 0.5538\n"
     ]
    },
    {
     "data": {
      "application/vnd.jupyter.widget-view+json": {
       "model_id": "1b2ae149fde84575b704094677a67982",
       "version_major": 2,
       "version_minor": 0
      },
      "text/plain": [
       "  0%|          | 0/334 [00:00<?, ?it/s]"
      ]
     },
     "metadata": {},
     "output_type": "display_data"
    },
    {
     "name": "stdout",
     "output_type": "stream",
     "text": [
      "Epoch [27], train_loss: 1.7915, val_loss: 2.8448, val_acc: 0.5601\n"
     ]
    },
    {
     "data": {
      "application/vnd.jupyter.widget-view+json": {
       "model_id": "0b175a986ba64a6c84ccbd2163933d30",
       "version_major": 2,
       "version_minor": 0
      },
      "text/plain": [
       "  0%|          | 0/334 [00:00<?, ?it/s]"
      ]
     },
     "metadata": {},
     "output_type": "display_data"
    },
    {
     "name": "stdout",
     "output_type": "stream",
     "text": [
      "Epoch [28], train_loss: 1.7729, val_loss: 2.8722, val_acc: 0.5663\n"
     ]
    },
    {
     "data": {
      "application/vnd.jupyter.widget-view+json": {
       "model_id": "7f62625e276a4b3db1697451e466a721",
       "version_major": 2,
       "version_minor": 0
      },
      "text/plain": [
       "  0%|          | 0/334 [00:00<?, ?it/s]"
      ]
     },
     "metadata": {},
     "output_type": "display_data"
    },
    {
     "name": "stdout",
     "output_type": "stream",
     "text": [
      "Epoch [29], train_loss: 1.7190, val_loss: 2.9020, val_acc: 0.5569\n"
     ]
    },
    {
     "data": {
      "application/vnd.jupyter.widget-view+json": {
       "model_id": "64d8a249e3804042aaa1f9c2cc266a5c",
       "version_major": 2,
       "version_minor": 0
      },
      "text/plain": [
       "  0%|          | 0/334 [00:00<?, ?it/s]"
      ]
     },
     "metadata": {},
     "output_type": "display_data"
    },
    {
     "name": "stdout",
     "output_type": "stream",
     "text": [
      "Epoch [30], train_loss: 1.7032, val_loss: 2.7985, val_acc: 0.5576\n"
     ]
    },
    {
     "data": {
      "application/vnd.jupyter.widget-view+json": {
       "model_id": "2b948ca020284702bfa117d2cee74b1f",
       "version_major": 2,
       "version_minor": 0
      },
      "text/plain": [
       "  0%|          | 0/334 [00:00<?, ?it/s]"
      ]
     },
     "metadata": {},
     "output_type": "display_data"
    },
    {
     "name": "stdout",
     "output_type": "stream",
     "text": [
      "Epoch [31], train_loss: 1.6288, val_loss: 2.8299, val_acc: 0.5538\n"
     ]
    },
    {
     "data": {
      "application/vnd.jupyter.widget-view+json": {
       "model_id": "cbeeaef90c8540939faa28a078a9403a",
       "version_major": 2,
       "version_minor": 0
      },
      "text/plain": [
       "  0%|          | 0/334 [00:00<?, ?it/s]"
      ]
     },
     "metadata": {},
     "output_type": "display_data"
    },
    {
     "name": "stdout",
     "output_type": "stream",
     "text": [
      "Epoch [32], train_loss: 1.6053, val_loss: 2.7596, val_acc: 0.5594\n"
     ]
    },
    {
     "data": {
      "application/vnd.jupyter.widget-view+json": {
       "model_id": "a4eb1cb81355488f8daa04f7be8b8699",
       "version_major": 2,
       "version_minor": 0
      },
      "text/plain": [
       "  0%|          | 0/334 [00:00<?, ?it/s]"
      ]
     },
     "metadata": {},
     "output_type": "display_data"
    },
    {
     "name": "stdout",
     "output_type": "stream",
     "text": [
      "Epoch [33], train_loss: 1.5711, val_loss: 2.8595, val_acc: 0.5483\n"
     ]
    },
    {
     "data": {
      "application/vnd.jupyter.widget-view+json": {
       "model_id": "1e93e8a6ed914f11ad72448f79f020ff",
       "version_major": 2,
       "version_minor": 0
      },
      "text/plain": [
       "  0%|          | 0/334 [00:00<?, ?it/s]"
      ]
     },
     "metadata": {},
     "output_type": "display_data"
    },
    {
     "name": "stdout",
     "output_type": "stream",
     "text": [
      "Epoch [34], train_loss: 1.5486, val_loss: 2.7680, val_acc: 0.5750\n"
     ]
    },
    {
     "data": {
      "application/vnd.jupyter.widget-view+json": {
       "model_id": "7885720ecde34f6da7353e93da51075b",
       "version_major": 2,
       "version_minor": 0
      },
      "text/plain": [
       "  0%|          | 0/334 [00:00<?, ?it/s]"
      ]
     },
     "metadata": {},
     "output_type": "display_data"
    },
    {
     "name": "stdout",
     "output_type": "stream",
     "text": [
      "Epoch [35], train_loss: 1.5177, val_loss: 2.8348, val_acc: 0.5427\n"
     ]
    },
    {
     "data": {
      "application/vnd.jupyter.widget-view+json": {
       "model_id": "2cdf7025774c42faa5ccee7820c51f36",
       "version_major": 2,
       "version_minor": 0
      },
      "text/plain": [
       "  0%|          | 0/334 [00:00<?, ?it/s]"
      ]
     },
     "metadata": {},
     "output_type": "display_data"
    },
    {
     "name": "stdout",
     "output_type": "stream",
     "text": [
      "Epoch [36], train_loss: 1.4685, val_loss: 2.8126, val_acc: 0.5444\n"
     ]
    },
    {
     "data": {
      "application/vnd.jupyter.widget-view+json": {
       "model_id": "df84dc5262c94e17a6265df6c38bab24",
       "version_major": 2,
       "version_minor": 0
      },
      "text/plain": [
       "  0%|          | 0/334 [00:00<?, ?it/s]"
      ]
     },
     "metadata": {},
     "output_type": "display_data"
    },
    {
     "name": "stdout",
     "output_type": "stream",
     "text": [
      "Epoch [37], train_loss: 1.4609, val_loss: 2.6831, val_acc: 0.5844\n"
     ]
    },
    {
     "data": {
      "application/vnd.jupyter.widget-view+json": {
       "model_id": "f6c2512b90264c2eb63fbb83eed24b26",
       "version_major": 2,
       "version_minor": 0
      },
      "text/plain": [
       "  0%|          | 0/334 [00:00<?, ?it/s]"
      ]
     },
     "metadata": {},
     "output_type": "display_data"
    },
    {
     "name": "stdout",
     "output_type": "stream",
     "text": [
      "Epoch [38], train_loss: 1.4412, val_loss: 2.6478, val_acc: 0.5976\n"
     ]
    },
    {
     "data": {
      "application/vnd.jupyter.widget-view+json": {
       "model_id": "7fa2af06fbbb4238a4c9ffbc3bd56030",
       "version_major": 2,
       "version_minor": 0
      },
      "text/plain": [
       "  0%|          | 0/334 [00:00<?, ?it/s]"
      ]
     },
     "metadata": {},
     "output_type": "display_data"
    },
    {
     "name": "stdout",
     "output_type": "stream",
     "text": [
      "Epoch [39], train_loss: 1.3726, val_loss: 2.6826, val_acc: 0.5750\n"
     ]
    },
    {
     "data": {
      "application/vnd.jupyter.widget-view+json": {
       "model_id": "e6d77a0433774d649425a5e9bc89f8c3",
       "version_major": 2,
       "version_minor": 0
      },
      "text/plain": [
       "  0%|          | 0/334 [00:00<?, ?it/s]"
      ]
     },
     "metadata": {},
     "output_type": "display_data"
    },
    {
     "name": "stdout",
     "output_type": "stream",
     "text": [
      "Epoch [40], train_loss: 1.3544, val_loss: 2.6511, val_acc: 0.5608\n"
     ]
    },
    {
     "data": {
      "application/vnd.jupyter.widget-view+json": {
       "model_id": "4deff611f0f946c19d1cb582d5bf4f6b",
       "version_major": 2,
       "version_minor": 0
      },
      "text/plain": [
       "  0%|          | 0/334 [00:00<?, ?it/s]"
      ]
     },
     "metadata": {},
     "output_type": "display_data"
    },
    {
     "name": "stdout",
     "output_type": "stream",
     "text": [
      "Epoch [41], train_loss: 1.3155, val_loss: 2.9899, val_acc: 0.5351\n"
     ]
    },
    {
     "data": {
      "application/vnd.jupyter.widget-view+json": {
       "model_id": "82dd3353b29145f9803cbcd4dd109ce3",
       "version_major": 2,
       "version_minor": 0
      },
      "text/plain": [
       "  0%|          | 0/334 [00:00<?, ?it/s]"
      ]
     },
     "metadata": {},
     "output_type": "display_data"
    },
    {
     "name": "stdout",
     "output_type": "stream",
     "text": [
      "Epoch [42], train_loss: 1.2683, val_loss: 2.7803, val_acc: 0.5764\n"
     ]
    },
    {
     "data": {
      "application/vnd.jupyter.widget-view+json": {
       "model_id": "0727ce1d4db440479502585d72cd5f67",
       "version_major": 2,
       "version_minor": 0
      },
      "text/plain": [
       "  0%|          | 0/334 [00:00<?, ?it/s]"
      ]
     },
     "metadata": {},
     "output_type": "display_data"
    },
    {
     "name": "stdout",
     "output_type": "stream",
     "text": [
      "Epoch [43], train_loss: 1.2792, val_loss: 2.7069, val_acc: 0.5813\n"
     ]
    },
    {
     "data": {
      "application/vnd.jupyter.widget-view+json": {
       "model_id": "7757023c569847928e0348ea692eb60b",
       "version_major": 2,
       "version_minor": 0
      },
      "text/plain": [
       "  0%|          | 0/334 [00:00<?, ?it/s]"
      ]
     },
     "metadata": {},
     "output_type": "display_data"
    },
    {
     "name": "stdout",
     "output_type": "stream",
     "text": [
      "Epoch [44], train_loss: 1.2477, val_loss: 2.6604, val_acc: 0.5781\n"
     ]
    },
    {
     "data": {
      "application/vnd.jupyter.widget-view+json": {
       "model_id": "c0292b272c2841b8b0c003164efde017",
       "version_major": 2,
       "version_minor": 0
      },
      "text/plain": [
       "  0%|          | 0/334 [00:00<?, ?it/s]"
      ]
     },
     "metadata": {},
     "output_type": "display_data"
    },
    {
     "name": "stdout",
     "output_type": "stream",
     "text": [
      "Epoch [45], train_loss: 1.2199, val_loss: 2.8445, val_acc: 0.5819\n"
     ]
    },
    {
     "data": {
      "application/vnd.jupyter.widget-view+json": {
       "model_id": "142fc120ab3d41beb504c2d08497ee2a",
       "version_major": 2,
       "version_minor": 0
      },
      "text/plain": [
       "  0%|          | 0/334 [00:00<?, ?it/s]"
      ]
     },
     "metadata": {},
     "output_type": "display_data"
    },
    {
     "name": "stdout",
     "output_type": "stream",
     "text": [
      "Epoch [46], train_loss: 1.1720, val_loss: 2.6801, val_acc: 0.6257\n"
     ]
    },
    {
     "data": {
      "application/vnd.jupyter.widget-view+json": {
       "model_id": "72ee72a7315542f28a25f05ab7488cc7",
       "version_major": 2,
       "version_minor": 0
      },
      "text/plain": [
       "  0%|          | 0/334 [00:00<?, ?it/s]"
      ]
     },
     "metadata": {},
     "output_type": "display_data"
    },
    {
     "name": "stdout",
     "output_type": "stream",
     "text": [
      "Epoch [47], train_loss: 1.1515, val_loss: 2.6145, val_acc: 0.5913\n"
     ]
    },
    {
     "data": {
      "application/vnd.jupyter.widget-view+json": {
       "model_id": "246f9497a5c64471be9ed26abc2c599c",
       "version_major": 2,
       "version_minor": 0
      },
      "text/plain": [
       "  0%|          | 0/334 [00:00<?, ?it/s]"
      ]
     },
     "metadata": {},
     "output_type": "display_data"
    },
    {
     "name": "stdout",
     "output_type": "stream",
     "text": [
      "Epoch [48], train_loss: 1.1455, val_loss: 2.7587, val_acc: 0.5882\n"
     ]
    },
    {
     "data": {
      "application/vnd.jupyter.widget-view+json": {
       "model_id": "9092de9a67da4d1488151f4885026bfe",
       "version_major": 2,
       "version_minor": 0
      },
      "text/plain": [
       "  0%|          | 0/334 [00:00<?, ?it/s]"
      ]
     },
     "metadata": {},
     "output_type": "display_data"
    },
    {
     "name": "stdout",
     "output_type": "stream",
     "text": [
      "Epoch [49], train_loss: 1.1239, val_loss: 2.8798, val_acc: 0.5701\n"
     ]
    }
   ],
   "source": [
    "opt_func = torch.optim.Adadelta\n",
    "lr = 0.1\n",
    "num_epochs = 50\n",
    "smaller_do_history+= fit(num_epochs, lr, smaller_do_model, train_dl, val_dl, opt_func)"
   ]
  },
  {
   "cell_type": "code",
   "execution_count": 320,
   "metadata": {
    "id": "Qglm75IWU4cb"
   },
   "outputs": [],
   "source": [
    "def plot_accuracies(history):\n",
    "    accuracies = [x['val_acc'] for x in history]\n",
    "    plt.plot(accuracies, '-x')\n",
    "    plt.xlabel('epoch')\n",
    "    plt.ylabel('accuracy')\n",
    "    plt.title('Accuracy vs. No. of epochs')\n",
    "    plt.show()\n",
    "    \n",
    "def plot_losses(history):\n",
    "    train_losses = [x.get('train_loss') for x in history]\n",
    "    val_losses = [x['val_loss'] for x in history]\n",
    "    plt.plot(train_losses, '-bx')\n",
    "    plt.plot(val_losses, '-rx')\n",
    "    plt.xlabel('epoch')\n",
    "    plt.ylabel('loss')\n",
    "    plt.legend(['Training', 'Validation'])\n",
    "    plt.title('Loss vs. No. of epochs')\n",
    "    plt.show()"
   ]
  },
  {
   "cell_type": "code",
   "execution_count": 321,
   "metadata": {},
   "outputs": [],
   "source": [
    "from FLOPs_counter import print_model_parm_flops"
   ]
  },
  {
   "cell_type": "markdown",
   "metadata": {},
   "source": [
    "## Baseline accuracy and loss (10 epochs)"
   ]
  },
  {
   "cell_type": "code",
   "execution_count": 331,
   "metadata": {},
   "outputs": [
    {
     "data": {
      "image/png": "[encoded data removed]",
      "text/plain": [
       "<Figure size 640x480 with 1 Axes>"
      ]
     },
     "metadata": {},
     "output_type": "display_data"
    },
    {
     "data": {
      "image/png": "[encoded data removed]",
      "text/plain": [
       "<Figure size 640x480 with 1 Axes>"
      ]
     },
     "metadata": {},
     "output_type": "display_data"
    },
    {
     "name": "stdout",
     "output_type": "stream",
     "text": [
      " + Number of FLOPs: 0.69G\n",
      "Evaluation for baseline (10 epochs): {'val_loss': 5.366818904876709, 'val_acc': 0.3652777671813965, 'train_loss': 1.2670550346374512}\n"
     ]
    }
   ],
   "source": [
    "plot_accuracies(base_history)\n",
    "plot_losses(base_history)\n",
    "evaluate(base_model, test_loader)\n",
    "\n",
    "# Calculate FLOPs\n",
    "input = torch.randn(1, 3, 112, 112) # The input size should be the same as the size that you put into your model \n",
    "# Get the network and its FLOPs\n",
    "eval_model = ConvolutionalNetwork(num_classes)\n",
    "print_model_parm_flops(eval_model, input, detail=False)\n",
    "print(f\"Evaluation for baseline (10 epochs): {base_history[-1]}\")\n"
   ]
  },
  {
   "cell_type": "markdown",
   "metadata": {},
   "source": [
    "## Baseline accuracy and loss (50 epochs)"
   ]
  },
  {
   "cell_type": "code",
   "execution_count": 332,
   "metadata": {},
   "outputs": [
    {
     "data": {
      "image/png": "[encoded data removed]",
      "text/plain": [
       "<Figure size 640x480 with 1 Axes>"
      ]
     },
     "metadata": {},
     "output_type": "display_data"
    },
    {
     "data": {
      "image/png": "[encoded data removed]",
      "text/plain": [
       "<Figure size 640x480 with 1 Axes>"
      ]
     },
     "metadata": {},
     "output_type": "display_data"
    },
    {
     "name": "stdout",
     "output_type": "stream",
     "text": [
      " + Number of FLOPs: 0.69G\n",
      "Starting evaluation for baseline (50 epochs): {'val_loss': 17.674999237060547, 'val_acc': 0.27847224473953247, 'train_loss': 0.28257250785827637}\n"
     ]
    }
   ],
   "source": [
    "plot_accuracies(history)\n",
    "plot_losses(history)\n",
    "evaluate(model, test_loader)\n",
    "\n",
    "# Calculate FLOPs\n",
    "input = torch.randn(1, 3, 112, 112) # The input size should be the same as the size that you put into your model \n",
    "# Get the network and its FLOPs\n",
    "eval_model = ConvolutionalNetwork(num_classes)\n",
    "print_model_parm_flops(eval_model, input, detail=False)\n",
    "print(f\"Starting evaluation for baseline (50 epochs): {history[-1]}\")"
   ]
  },
  {
   "cell_type": "markdown",
   "metadata": {},
   "source": [
    "## Dropout model accuracy and loss"
   ]
  },
  {
   "cell_type": "code",
   "execution_count": 333,
   "metadata": {
    "id": "nR4Z6VhoU9ph"
   },
   "outputs": [
    {
     "data": {
      "image/png": "[encoded data removed]",
      "text/plain": [
       "<Figure size 640x480 with 1 Axes>"
      ]
     },
     "metadata": {},
     "output_type": "display_data"
    },
    {
     "data": {
      "image/png": "[encoded data removed]",
      "text/plain": [
       "<Figure size 640x480 with 1 Axes>"
      ]
     },
     "metadata": {},
     "output_type": "display_data"
    },
    {
     "name": "stdout",
     "output_type": "stream",
     "text": [
      " + Number of FLOPs: 0.69G\n",
      "Starting evaluation for dropout model: {'val_loss': 2.9605469703674316, 'val_acc': 0.5920138955116272, 'train_loss': 0.9332290291786194}\n"
     ]
    }
   ],
   "source": [
    "plot_accuracies(do_history)\n",
    "plot_losses(do_history)\n",
    "evaluate(do_model, test_loader)\n",
    "\n",
    "# Calculate FLOPs\n",
    "input = torch.randn(1, 3, 112, 112) # The input size should be the same as the size that you put into your model \n",
    "# Get the network and its FLOPs\n",
    "eval_model = DOConvolutionalNetwork(num_classes)\n",
    "print_model_parm_flops(eval_model, input, detail=False)\n",
    "print(f\"Starting evaluation for dropout model: {do_history[-1]}\")"
   ]
  },
  {
   "cell_type": "markdown",
   "metadata": {},
   "source": [
    "## Smaller dropout model evaluation"
   ]
  },
  {
   "cell_type": "code",
   "execution_count": 334,
   "metadata": {
    "id": "gF0Svy9WU_FQ"
   },
   "outputs": [
    {
     "data": {
      "image/png": "[encoded data removed]",
      "text/plain": [
       "<Figure size 640x480 with 1 Axes>"
      ]
     },
     "metadata": {},
     "output_type": "display_data"
    },
    {
     "data": {
      "image/png": "[encoded data removed]",
      "text/plain": [
       "<Figure size 640x480 with 1 Axes>"
      ]
     },
     "metadata": {},
     "output_type": "display_data"
    },
    {
     "name": "stdout",
     "output_type": "stream",
     "text": [
      " + Number of FLOPs: 0.53G\n",
      "Starting evaluation for smaller dropout model: {'val_loss': 2.8797903060913086, 'val_acc': 0.5701388716697693, 'train_loss': 1.123948097229004}\n"
     ]
    }
   ],
   "source": [
    "plot_accuracies(smaller_do_history)\n",
    "plot_losses(smaller_do_history)\n",
    "evaluate(smaller_do_model, test_loader)\n",
    "\n",
    "# Calculate FLOPs\n",
    "input = torch.randn(1, 3, 112, 112) # The input size should be the same as the size that you put into your model \n",
    "# Get the network and its FLOPs\n",
    "eval_model = SmallerDOConvolutionalNetwork(num_classes)\n",
    "print_model_parm_flops(eval_model, input, detail=False)\n",
    "print(f\"Starting evaluation for smaller dropout model: {smaller_do_history[-1]}\")\n"
   ]
  }
 ],
 "metadata": {
  "accelerator": "GPU",
  "colab": {
   "collapsed_sections": [
    "30W_gAqhVI09"
   ],
   "provenance": []
  },
  "kernelspec": {
   "display_name": "Python 3 (ipykernel)",
   "language": "python",
   "name": "python3"
  },
  "language_info": {
   "codemirror_mode": {
    "name": "ipython",
    "version": 3
   },
   "file_extension": ".py",
   "mimetype": "text/x-python",
   "name": "python",
   "nbconvert_exporter": "python",
   "pygments_lexer": "ipython3",
   "version": "3.10.12"
  }
 },
 "nbformat": 4,
 "nbformat_minor": 4
}
